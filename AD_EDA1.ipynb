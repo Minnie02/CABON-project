{
 "cells": [
  {
   "cell_type": "markdown",
   "id": "44952bd7",
   "metadata": {},
   "source": [
    "# 1. 데이터셋 구조 파악"
   ]
  },
  {
   "cell_type": "code",
   "execution_count": null,
   "id": "90e10d4c",
   "metadata": {},
   "outputs": [],
   "source": [
    "##Alzheimer Disease EEG Dataset/\n",
    " # ├ AD.mat           # 알츠하이머 환자 EEG\n",
    " # ├ MCI.mat          # 경도인지장애(MCI) EEG\n",
    " # ├ Normal.mat       # 정상 노인 EEG\n",
    " # └ MMSE_Data.txt    # 인구통계 및 MMSE 점수\n"
   ]
  },
  {
   "cell_type": "markdown",
   "id": "ea7bab0f",
   "metadata": {},
   "source": [
    "## 1) MAT 파일 안에 든 변수 확인\n"
   ]
  },
  {
   "cell_type": "code",
   "execution_count": 1,
   "id": "39529e6d",
   "metadata": {},
   "outputs": [
    {
     "name": "stdout",
     "output_type": "stream",
     "text": [
      "dict_keys(['__header__', '__version__', '__globals__', 'AD'])\n"
     ]
    }
   ],
   "source": [
    "import scipy.io as sio\n",
    "mat = sio.loadmat(\"AD.mat\", struct_as_record=False, squeeze_me=True)\n",
    "print(mat.keys())  \n",
    "# → dict_keys(['__header__','__version__','__globals__','AD'])\n"
   ]
  },
  {
   "cell_type": "markdown",
   "id": "fa5f083d",
   "metadata": {},
   "source": [
    "## 2) MAT-struct 추출 및 필드 확인"
   ]
  },
  {
   "cell_type": "code",
   "execution_count": 2,
   "id": "5b8b1b48",
   "metadata": {},
   "outputs": [
    {
     "name": "stdout",
     "output_type": "stream",
     "text": [
      "['epoch', 'odor', 'noisy']\n"
     ]
    }
   ],
   "source": [
    "data = mat['AD']          # numpy.ndarray of length 13 (participants)\n",
    "rec  = data[0]            # 첫 번째 피험자의 struct\n",
    "print(rec._fieldnames)    \n",
    "# → ['epoch','odor','noisy']\n"
   ]
  },
  {
   "cell_type": "markdown",
   "id": "59b441bd",
   "metadata": {},
   "source": [
    "## 3) epoch 배열 형태"
   ]
  },
  {
   "cell_type": "code",
   "execution_count": 3,
   "id": "908ee29e",
   "metadata": {},
   "outputs": [
    {
     "name": "stdout",
     "output_type": "stream",
     "text": [
      "(4, 600, 59)\n"
     ]
    }
   ],
   "source": [
    "arr = rec.epoch           # shape == (n_ch, n_times, n_epochs)\n",
    "print(arr.shape)          \n",
    "# → (4, 600, 59)  ⇒ 4채널 × 600샘플 × 59 trials\n"
   ]
  },
  {
   "cell_type": "markdown",
   "id": "0d56d2a6",
   "metadata": {},
   "source": [
    "# 2. 채널·샘플링 정보 추론\n",
    "n_ch = 4 → 채널명은 일반적으로 ['Fp1','Fz','Cz','Pz']\n",
    "\n",
    "n_times = 600, epoch 길이 = 3초(−1…+2초) 가정 →\n",
    "sfreq = 600 / 3.0 = 200 Hz"
   ]
  },
  {
   "cell_type": "code",
   "execution_count": 4,
   "id": "252af1a3",
   "metadata": {},
   "outputs": [
    {
     "name": "stdout",
     "output_type": "stream",
     "text": [
      "Not setting metadata\n",
      "59 matching events found\n",
      "No baseline correction applied\n",
      "0 projection items activated\n",
      "<EpochsArray | 59 events (all good), -1 – 1.995 s (baseline off), ~1.1 MiB, data loaded,\n",
      " '1': 59>\n"
     ]
    }
   ],
   "source": [
    "import mne\n",
    "ch_names = ['Fp1','Fz','Cz','Pz']\n",
    "info     = mne.create_info(ch_names, sfreq=200., ch_types='eeg')\n",
    "epochs   = mne.EpochsArray(arr.transpose(2,0,1), info, tmin=-1.0)\n",
    "print(epochs)\n"
   ]
  },
  {
   "cell_type": "markdown",
   "id": "b06ce00d",
   "metadata": {},
   "source": [
    "# 3. 전처리 파이프라인"
   ]
  },
  {
   "cell_type": "code",
   "execution_count": 7,
   "id": "fd9a57b0",
   "metadata": {},
   "outputs": [
    {
     "name": "stdout",
     "output_type": "stream",
     "text": [
      "▶ ICA: 3 comps\n"
     ]
    },
    {
     "name": "stderr",
     "output_type": "stream",
     "text": [
      "C:\\Users\\Public\\Documents\\ESTsoft\\CreatorTemp\\ipykernel_31832\\3975058953.py:20: RuntimeWarning: filter_length (1321) is longer than the signal (600), distortion is likely. Reduce filter length or filter a longer signal.\n",
      "  data[i] = notch_filter(data[i], Fs=200., freqs=[50.0])\n",
      "C:\\Users\\Public\\Documents\\ESTsoft\\CreatorTemp\\ipykernel_31832\\3975058953.py:20: RuntimeWarning: filter_length (1321) is longer than the signal (600), distortion is likely. Reduce filter length or filter a longer signal.\n",
      "  data[i] = notch_filter(data[i], Fs=200., freqs=[50.0])\n",
      "C:\\Users\\Public\\Documents\\ESTsoft\\CreatorTemp\\ipykernel_31832\\3975058953.py:20: RuntimeWarning: filter_length (1321) is longer than the signal (600), distortion is likely. Reduce filter length or filter a longer signal.\n",
      "  data[i] = notch_filter(data[i], Fs=200., freqs=[50.0])\n",
      "C:\\Users\\Public\\Documents\\ESTsoft\\CreatorTemp\\ipykernel_31832\\3975058953.py:20: RuntimeWarning: filter_length (1321) is longer than the signal (600), distortion is likely. Reduce filter length or filter a longer signal.\n",
      "  data[i] = notch_filter(data[i], Fs=200., freqs=[50.0])\n",
      "C:\\Users\\Public\\Documents\\ESTsoft\\CreatorTemp\\ipykernel_31832\\3975058953.py:20: RuntimeWarning: filter_length (1321) is longer than the signal (600), distortion is likely. Reduce filter length or filter a longer signal.\n",
      "  data[i] = notch_filter(data[i], Fs=200., freqs=[50.0])\n",
      "C:\\Users\\Public\\Documents\\ESTsoft\\CreatorTemp\\ipykernel_31832\\3975058953.py:20: RuntimeWarning: filter_length (1321) is longer than the signal (600), distortion is likely. Reduce filter length or filter a longer signal.\n",
      "  data[i] = notch_filter(data[i], Fs=200., freqs=[50.0])\n",
      "C:\\Users\\Public\\Documents\\ESTsoft\\CreatorTemp\\ipykernel_31832\\3975058953.py:20: RuntimeWarning: filter_length (1321) is longer than the signal (600), distortion is likely. Reduce filter length or filter a longer signal.\n",
      "  data[i] = notch_filter(data[i], Fs=200., freqs=[50.0])\n",
      "C:\\Users\\Public\\Documents\\ESTsoft\\CreatorTemp\\ipykernel_31832\\3975058953.py:20: RuntimeWarning: filter_length (1321) is longer than the signal (600), distortion is likely. Reduce filter length or filter a longer signal.\n",
      "  data[i] = notch_filter(data[i], Fs=200., freqs=[50.0])\n",
      "C:\\Users\\Public\\Documents\\ESTsoft\\CreatorTemp\\ipykernel_31832\\3975058953.py:20: RuntimeWarning: filter_length (1321) is longer than the signal (600), distortion is likely. Reduce filter length or filter a longer signal.\n",
      "  data[i] = notch_filter(data[i], Fs=200., freqs=[50.0])\n",
      "C:\\Users\\Public\\Documents\\ESTsoft\\CreatorTemp\\ipykernel_31832\\3975058953.py:20: RuntimeWarning: filter_length (1321) is longer than the signal (600), distortion is likely. Reduce filter length or filter a longer signal.\n",
      "  data[i] = notch_filter(data[i], Fs=200., freqs=[50.0])\n",
      "C:\\Users\\Public\\Documents\\ESTsoft\\CreatorTemp\\ipykernel_31832\\3975058953.py:20: RuntimeWarning: filter_length (1321) is longer than the signal (600), distortion is likely. Reduce filter length or filter a longer signal.\n",
      "  data[i] = notch_filter(data[i], Fs=200., freqs=[50.0])\n",
      "C:\\Users\\Public\\Documents\\ESTsoft\\CreatorTemp\\ipykernel_31832\\3975058953.py:20: RuntimeWarning: filter_length (1321) is longer than the signal (600), distortion is likely. Reduce filter length or filter a longer signal.\n",
      "  data[i] = notch_filter(data[i], Fs=200., freqs=[50.0])\n",
      "C:\\Users\\Public\\Documents\\ESTsoft\\CreatorTemp\\ipykernel_31832\\3975058953.py:20: RuntimeWarning: filter_length (1321) is longer than the signal (600), distortion is likely. Reduce filter length or filter a longer signal.\n",
      "  data[i] = notch_filter(data[i], Fs=200., freqs=[50.0])\n",
      "C:\\Users\\Public\\Documents\\ESTsoft\\CreatorTemp\\ipykernel_31832\\3975058953.py:20: RuntimeWarning: filter_length (1321) is longer than the signal (600), distortion is likely. Reduce filter length or filter a longer signal.\n",
      "  data[i] = notch_filter(data[i], Fs=200., freqs=[50.0])\n",
      "C:\\Users\\Public\\Documents\\ESTsoft\\CreatorTemp\\ipykernel_31832\\3975058953.py:20: RuntimeWarning: filter_length (1321) is longer than the signal (600), distortion is likely. Reduce filter length or filter a longer signal.\n",
      "  data[i] = notch_filter(data[i], Fs=200., freqs=[50.0])\n",
      "C:\\Users\\Public\\Documents\\ESTsoft\\CreatorTemp\\ipykernel_31832\\3975058953.py:20: RuntimeWarning: filter_length (1321) is longer than the signal (600), distortion is likely. Reduce filter length or filter a longer signal.\n",
      "  data[i] = notch_filter(data[i], Fs=200., freqs=[50.0])\n",
      "C:\\Users\\Public\\Documents\\ESTsoft\\CreatorTemp\\ipykernel_31832\\3975058953.py:20: RuntimeWarning: filter_length (1321) is longer than the signal (600), distortion is likely. Reduce filter length or filter a longer signal.\n",
      "  data[i] = notch_filter(data[i], Fs=200., freqs=[50.0])\n",
      "C:\\Users\\Public\\Documents\\ESTsoft\\CreatorTemp\\ipykernel_31832\\3975058953.py:20: RuntimeWarning: filter_length (1321) is longer than the signal (600), distortion is likely. Reduce filter length or filter a longer signal.\n",
      "  data[i] = notch_filter(data[i], Fs=200., freqs=[50.0])\n",
      "C:\\Users\\Public\\Documents\\ESTsoft\\CreatorTemp\\ipykernel_31832\\3975058953.py:20: RuntimeWarning: filter_length (1321) is longer than the signal (600), distortion is likely. Reduce filter length or filter a longer signal.\n",
      "  data[i] = notch_filter(data[i], Fs=200., freqs=[50.0])\n",
      "C:\\Users\\Public\\Documents\\ESTsoft\\CreatorTemp\\ipykernel_31832\\3975058953.py:20: RuntimeWarning: filter_length (1321) is longer than the signal (600), distortion is likely. Reduce filter length or filter a longer signal.\n",
      "  data[i] = notch_filter(data[i], Fs=200., freqs=[50.0])\n",
      "C:\\Users\\Public\\Documents\\ESTsoft\\CreatorTemp\\ipykernel_31832\\3975058953.py:20: RuntimeWarning: filter_length (1321) is longer than the signal (600), distortion is likely. Reduce filter length or filter a longer signal.\n",
      "  data[i] = notch_filter(data[i], Fs=200., freqs=[50.0])\n",
      "C:\\Users\\Public\\Documents\\ESTsoft\\CreatorTemp\\ipykernel_31832\\3975058953.py:20: RuntimeWarning: filter_length (1321) is longer than the signal (600), distortion is likely. Reduce filter length or filter a longer signal.\n",
      "  data[i] = notch_filter(data[i], Fs=200., freqs=[50.0])\n",
      "C:\\Users\\Public\\Documents\\ESTsoft\\CreatorTemp\\ipykernel_31832\\3975058953.py:20: RuntimeWarning: filter_length (1321) is longer than the signal (600), distortion is likely. Reduce filter length or filter a longer signal.\n",
      "  data[i] = notch_filter(data[i], Fs=200., freqs=[50.0])\n",
      "C:\\Users\\Public\\Documents\\ESTsoft\\CreatorTemp\\ipykernel_31832\\3975058953.py:20: RuntimeWarning: filter_length (1321) is longer than the signal (600), distortion is likely. Reduce filter length or filter a longer signal.\n",
      "  data[i] = notch_filter(data[i], Fs=200., freqs=[50.0])\n",
      "C:\\Users\\Public\\Documents\\ESTsoft\\CreatorTemp\\ipykernel_31832\\3975058953.py:20: RuntimeWarning: filter_length (1321) is longer than the signal (600), distortion is likely. Reduce filter length or filter a longer signal.\n",
      "  data[i] = notch_filter(data[i], Fs=200., freqs=[50.0])\n",
      "C:\\Users\\Public\\Documents\\ESTsoft\\CreatorTemp\\ipykernel_31832\\3975058953.py:20: RuntimeWarning: filter_length (1321) is longer than the signal (600), distortion is likely. Reduce filter length or filter a longer signal.\n",
      "  data[i] = notch_filter(data[i], Fs=200., freqs=[50.0])\n",
      "C:\\Users\\Public\\Documents\\ESTsoft\\CreatorTemp\\ipykernel_31832\\3975058953.py:20: RuntimeWarning: filter_length (1321) is longer than the signal (600), distortion is likely. Reduce filter length or filter a longer signal.\n",
      "  data[i] = notch_filter(data[i], Fs=200., freqs=[50.0])\n",
      "C:\\Users\\Public\\Documents\\ESTsoft\\CreatorTemp\\ipykernel_31832\\3975058953.py:20: RuntimeWarning: filter_length (1321) is longer than the signal (600), distortion is likely. Reduce filter length or filter a longer signal.\n",
      "  data[i] = notch_filter(data[i], Fs=200., freqs=[50.0])\n",
      "C:\\Users\\Public\\Documents\\ESTsoft\\CreatorTemp\\ipykernel_31832\\3975058953.py:20: RuntimeWarning: filter_length (1321) is longer than the signal (600), distortion is likely. Reduce filter length or filter a longer signal.\n",
      "  data[i] = notch_filter(data[i], Fs=200., freqs=[50.0])\n",
      "C:\\Users\\Public\\Documents\\ESTsoft\\CreatorTemp\\ipykernel_31832\\3975058953.py:20: RuntimeWarning: filter_length (1321) is longer than the signal (600), distortion is likely. Reduce filter length or filter a longer signal.\n",
      "  data[i] = notch_filter(data[i], Fs=200., freqs=[50.0])\n",
      "C:\\Users\\Public\\Documents\\ESTsoft\\CreatorTemp\\ipykernel_31832\\3975058953.py:20: RuntimeWarning: filter_length (1321) is longer than the signal (600), distortion is likely. Reduce filter length or filter a longer signal.\n",
      "  data[i] = notch_filter(data[i], Fs=200., freqs=[50.0])\n",
      "C:\\Users\\Public\\Documents\\ESTsoft\\CreatorTemp\\ipykernel_31832\\3975058953.py:20: RuntimeWarning: filter_length (1321) is longer than the signal (600), distortion is likely. Reduce filter length or filter a longer signal.\n",
      "  data[i] = notch_filter(data[i], Fs=200., freqs=[50.0])\n",
      "C:\\Users\\Public\\Documents\\ESTsoft\\CreatorTemp\\ipykernel_31832\\3975058953.py:20: RuntimeWarning: filter_length (1321) is longer than the signal (600), distortion is likely. Reduce filter length or filter a longer signal.\n",
      "  data[i] = notch_filter(data[i], Fs=200., freqs=[50.0])\n",
      "C:\\Users\\Public\\Documents\\ESTsoft\\CreatorTemp\\ipykernel_31832\\3975058953.py:20: RuntimeWarning: filter_length (1321) is longer than the signal (600), distortion is likely. Reduce filter length or filter a longer signal.\n",
      "  data[i] = notch_filter(data[i], Fs=200., freqs=[50.0])\n",
      "C:\\Users\\Public\\Documents\\ESTsoft\\CreatorTemp\\ipykernel_31832\\3975058953.py:20: RuntimeWarning: filter_length (1321) is longer than the signal (600), distortion is likely. Reduce filter length or filter a longer signal.\n",
      "  data[i] = notch_filter(data[i], Fs=200., freqs=[50.0])\n",
      "C:\\Users\\Public\\Documents\\ESTsoft\\CreatorTemp\\ipykernel_31832\\3975058953.py:20: RuntimeWarning: filter_length (1321) is longer than the signal (600), distortion is likely. Reduce filter length or filter a longer signal.\n",
      "  data[i] = notch_filter(data[i], Fs=200., freqs=[50.0])\n",
      "C:\\Users\\Public\\Documents\\ESTsoft\\CreatorTemp\\ipykernel_31832\\3975058953.py:20: RuntimeWarning: filter_length (1321) is longer than the signal (600), distortion is likely. Reduce filter length or filter a longer signal.\n",
      "  data[i] = notch_filter(data[i], Fs=200., freqs=[50.0])\n",
      "C:\\Users\\Public\\Documents\\ESTsoft\\CreatorTemp\\ipykernel_31832\\3975058953.py:20: RuntimeWarning: filter_length (1321) is longer than the signal (600), distortion is likely. Reduce filter length or filter a longer signal.\n",
      "  data[i] = notch_filter(data[i], Fs=200., freqs=[50.0])\n",
      "C:\\Users\\Public\\Documents\\ESTsoft\\CreatorTemp\\ipykernel_31832\\3975058953.py:20: RuntimeWarning: filter_length (1321) is longer than the signal (600), distortion is likely. Reduce filter length or filter a longer signal.\n",
      "  data[i] = notch_filter(data[i], Fs=200., freqs=[50.0])\n",
      "C:\\Users\\Public\\Documents\\ESTsoft\\CreatorTemp\\ipykernel_31832\\3975058953.py:20: RuntimeWarning: filter_length (1321) is longer than the signal (600), distortion is likely. Reduce filter length or filter a longer signal.\n",
      "  data[i] = notch_filter(data[i], Fs=200., freqs=[50.0])\n",
      "C:\\Users\\Public\\Documents\\ESTsoft\\CreatorTemp\\ipykernel_31832\\3975058953.py:20: RuntimeWarning: filter_length (1321) is longer than the signal (600), distortion is likely. Reduce filter length or filter a longer signal.\n",
      "  data[i] = notch_filter(data[i], Fs=200., freqs=[50.0])\n",
      "C:\\Users\\Public\\Documents\\ESTsoft\\CreatorTemp\\ipykernel_31832\\3975058953.py:20: RuntimeWarning: filter_length (1321) is longer than the signal (600), distortion is likely. Reduce filter length or filter a longer signal.\n",
      "  data[i] = notch_filter(data[i], Fs=200., freqs=[50.0])\n",
      "C:\\Users\\Public\\Documents\\ESTsoft\\CreatorTemp\\ipykernel_31832\\3975058953.py:20: RuntimeWarning: filter_length (1321) is longer than the signal (600), distortion is likely. Reduce filter length or filter a longer signal.\n",
      "  data[i] = notch_filter(data[i], Fs=200., freqs=[50.0])\n",
      "C:\\Users\\Public\\Documents\\ESTsoft\\CreatorTemp\\ipykernel_31832\\3975058953.py:20: RuntimeWarning: filter_length (1321) is longer than the signal (600), distortion is likely. Reduce filter length or filter a longer signal.\n",
      "  data[i] = notch_filter(data[i], Fs=200., freqs=[50.0])\n",
      "C:\\Users\\Public\\Documents\\ESTsoft\\CreatorTemp\\ipykernel_31832\\3975058953.py:20: RuntimeWarning: filter_length (1321) is longer than the signal (600), distortion is likely. Reduce filter length or filter a longer signal.\n",
      "  data[i] = notch_filter(data[i], Fs=200., freqs=[50.0])\n",
      "C:\\Users\\Public\\Documents\\ESTsoft\\CreatorTemp\\ipykernel_31832\\3975058953.py:20: RuntimeWarning: filter_length (1321) is longer than the signal (600), distortion is likely. Reduce filter length or filter a longer signal.\n",
      "  data[i] = notch_filter(data[i], Fs=200., freqs=[50.0])\n",
      "C:\\Users\\Public\\Documents\\ESTsoft\\CreatorTemp\\ipykernel_31832\\3975058953.py:20: RuntimeWarning: filter_length (1321) is longer than the signal (600), distortion is likely. Reduce filter length or filter a longer signal.\n",
      "  data[i] = notch_filter(data[i], Fs=200., freqs=[50.0])\n",
      "C:\\Users\\Public\\Documents\\ESTsoft\\CreatorTemp\\ipykernel_31832\\3975058953.py:20: RuntimeWarning: filter_length (1321) is longer than the signal (600), distortion is likely. Reduce filter length or filter a longer signal.\n",
      "  data[i] = notch_filter(data[i], Fs=200., freqs=[50.0])\n",
      "C:\\Users\\Public\\Documents\\ESTsoft\\CreatorTemp\\ipykernel_31832\\3975058953.py:20: RuntimeWarning: filter_length (1321) is longer than the signal (600), distortion is likely. Reduce filter length or filter a longer signal.\n",
      "  data[i] = notch_filter(data[i], Fs=200., freqs=[50.0])\n",
      "C:\\Users\\Public\\Documents\\ESTsoft\\CreatorTemp\\ipykernel_31832\\3975058953.py:20: RuntimeWarning: filter_length (1321) is longer than the signal (600), distortion is likely. Reduce filter length or filter a longer signal.\n",
      "  data[i] = notch_filter(data[i], Fs=200., freqs=[50.0])\n",
      "C:\\Users\\Public\\Documents\\ESTsoft\\CreatorTemp\\ipykernel_31832\\3975058953.py:20: RuntimeWarning: filter_length (1321) is longer than the signal (600), distortion is likely. Reduce filter length or filter a longer signal.\n",
      "  data[i] = notch_filter(data[i], Fs=200., freqs=[50.0])\n",
      "C:\\Users\\Public\\Documents\\ESTsoft\\CreatorTemp\\ipykernel_31832\\3975058953.py:20: RuntimeWarning: filter_length (1321) is longer than the signal (600), distortion is likely. Reduce filter length or filter a longer signal.\n",
      "  data[i] = notch_filter(data[i], Fs=200., freqs=[50.0])\n",
      "C:\\Users\\Public\\Documents\\ESTsoft\\CreatorTemp\\ipykernel_31832\\3975058953.py:20: RuntimeWarning: filter_length (1321) is longer than the signal (600), distortion is likely. Reduce filter length or filter a longer signal.\n",
      "  data[i] = notch_filter(data[i], Fs=200., freqs=[50.0])\n",
      "C:\\Users\\Public\\Documents\\ESTsoft\\CreatorTemp\\ipykernel_31832\\3975058953.py:20: RuntimeWarning: filter_length (1321) is longer than the signal (600), distortion is likely. Reduce filter length or filter a longer signal.\n",
      "  data[i] = notch_filter(data[i], Fs=200., freqs=[50.0])\n",
      "C:\\Users\\Public\\Documents\\ESTsoft\\CreatorTemp\\ipykernel_31832\\3975058953.py:20: RuntimeWarning: filter_length (1321) is longer than the signal (600), distortion is likely. Reduce filter length or filter a longer signal.\n",
      "  data[i] = notch_filter(data[i], Fs=200., freqs=[50.0])\n",
      "C:\\Users\\Public\\Documents\\ESTsoft\\CreatorTemp\\ipykernel_31832\\3975058953.py:20: RuntimeWarning: filter_length (1321) is longer than the signal (600), distortion is likely. Reduce filter length or filter a longer signal.\n",
      "  data[i] = notch_filter(data[i], Fs=200., freqs=[50.0])\n",
      "C:\\Users\\Public\\Documents\\ESTsoft\\CreatorTemp\\ipykernel_31832\\3975058953.py:20: RuntimeWarning: filter_length (1321) is longer than the signal (600), distortion is likely. Reduce filter length or filter a longer signal.\n",
      "  data[i] = notch_filter(data[i], Fs=200., freqs=[50.0])\n",
      "C:\\Users\\Public\\Documents\\ESTsoft\\CreatorTemp\\ipykernel_31832\\3975058953.py:20: RuntimeWarning: filter_length (1321) is longer than the signal (600), distortion is likely. Reduce filter length or filter a longer signal.\n",
      "  data[i] = notch_filter(data[i], Fs=200., freqs=[50.0])\n",
      "C:\\Users\\Public\\Documents\\ESTsoft\\CreatorTemp\\ipykernel_31832\\3975058953.py:20: RuntimeWarning: filter_length (1321) is longer than the signal (600), distortion is likely. Reduce filter length or filter a longer signal.\n",
      "  data[i] = notch_filter(data[i], Fs=200., freqs=[50.0])\n"
     ]
    },
    {
     "name": "stdout",
     "output_type": "stream",
     "text": [
      "Selected 3 ICs\n"
     ]
    }
   ],
   "source": [
    "import numpy as np\n",
    "from mne.preprocessing import ICA\n",
    "from mne.filter import notch_filter\n",
    "from mne.utils import use_log_level\n",
    "\n",
    "with use_log_level('ERROR'):  \n",
    "    ica.fit(epochs)   # 이 블록 안에서는 ERROR 이상만 출력\n",
    "print(f\"▶ ICA: {ica.n_components_} comps\")\n",
    "\n",
    "\n",
    "\n",
    "# 1) Band-pass 1–40 Hz (IIR Butterworth)\n",
    "epochs.filter(1., 40., method='iir',\n",
    "              iir_params=dict(ftype='butter', order=4),\n",
    "              verbose=False)\n",
    "\n",
    "# 2) Notch 50 Hz (trial마다 적용)\n",
    "data = epochs.get_data()\n",
    "for i in range(len(data)):\n",
    "    data[i] = notch_filter(data[i], Fs=200., freqs=[50.0])\n",
    "epochs._data = data\n",
    "\n",
    "# 3) ICA (분산 99.9% 설명)\n",
    "ica = ICA(n_components=0.999, method='fastica',\n",
    "          random_state=42, max_iter='auto', verbose=False)\n",
    "ica.fit(epochs)\n",
    "print(f\"Selected {ica.n_components_} ICs\")\n",
    "epochs = ica.apply(epochs, verbose=False)\n"
   ]
  },
  {
   "cell_type": "markdown",
   "id": "460c962e",
   "metadata": {},
   "source": [
    "# 4. QC: PTP 분포 보고 임계치 결정"
   ]
  },
  {
   "cell_type": "code",
   "execution_count": 23,
   "id": "a4075193",
   "metadata": {},
   "outputs": [
    {
     "data": {
      "image/png": "[encoded data removed]",
      "text/plain": [
       "<Figure size 640x480 with 1 Axes>"
      ]
     },
     "metadata": {},
     "output_type": "display_data"
    }
   ],
   "source": [
    "# 1) .mat 파일 로드\n",
    "mat = sio.loadmat(\n",
    "    \"C:/Users/Minnie/Desktop/Alzheimer Disease EEG Dataset/AD.mat\",\n",
    "    struct_as_record=False,\n",
    "    squeeze_me=True\n",
    ")\n",
    "# AD라는 key 로 저장된 ndarray를 꺼낸 뒤...\n",
    "data = mat['AD']\n",
    "# ndarray 안의 첫 번째 요소를 구조체로 추출\n",
    "rec = data[0]   # 혹은 data.flatten()[0]\n",
    "\n",
    "# 2) µV→V 변환 후 EpochsArray 준비\n",
    "arr_uv = rec.epoch                      # (n_ch, n_times, n_epochs), in µV\n",
    "arr_v  = arr_uv * 1e-6                  # convert µV → V\n",
    "X      = arr_v.transpose(2, 0, 1)       # → (n_epochs, n_ch, n_times)\n",
    "\n",
    "sfreq  = 200.0                          # 샘플링 주파수 직접 지정\n",
    "info   = mne.create_info(['Fp1','Fz','Cz','Pz'], sfreq, 'eeg')\n",
    "epochs = mne.EpochsArray(X, info, tmin=-1.0, verbose=False)\n",
    "\n",
    "# 3) ICA 후 PTP 계산 (V 단위)\n",
    "# epochs = ... (필터→노치→ICA 과정을 거친 epochs)\n",
    "ptp_V = epochs.get_data().ptp(axis=2).max(axis=1)\n",
    "\n",
    "# 4) 다시 µV로 변환해서 분포 시각화\n",
    "ptp_uV = ptp_V * 1e6\n",
    "plt.hist(ptp_uV, bins=30)\n",
    "plt.xlabel('Epoch PTP (µV)')\n",
    "plt.ylabel('Count')\n",
    "plt.title('PTP Distribution (AD)')\n",
    "plt.show()"
   ]
  },
  {
   "cell_type": "markdown",
   "id": "57f5278e",
   "metadata": {},
   "source": [
    "### 해석:\n",
    "\n",
    "대부분의 PTP가 0–3000 µV 구간,\n",
    "\n",
    "99th-percentile ≈ 2500 µV"
   ]
  },
  {
   "cell_type": "markdown",
   "id": "4ca7ee54",
   "metadata": {},
   "source": [
    "# 5. Bad-epoch 제거"
   ]
  },
  {
   "cell_type": "markdown",
   "id": "46c72c60",
   "metadata": {},
   "source": [
    "## 1) 99th-percentile 기준"
   ]
  },
  {
   "cell_type": "code",
   "execution_count": 21,
   "id": "edfdef42",
   "metadata": {},
   "outputs": [
    {
     "name": "stdout",
     "output_type": "stream",
     "text": [
      "99th percentile PTP: 26055 µV\n",
      "    Rejecting  epoch based on EEG : ['Cz']\n",
      "1 bad epochs dropped\n",
      " → 58/59 epochs remain\n"
     ]
    }
   ],
   "source": [
    "# epochs: ICA 까지 완료된 EpochsArray (V 단위)\n",
    "ptp_V  = epochs.get_data().ptp(axis=2).max(axis=1)  # 각 epoch의 peak-to-peak (Volts)\n",
    "ptp_uV = ptp_V * 1e6                               # µV 단위로 변환\n",
    "\n",
    "# 99번째 퍼센타일 계산\n",
    "threshold_uV = np.percentile(ptp_uV, 99)\n",
    "threshold_V  = threshold_uV * 1e-6\n",
    "print(f\"99th percentile PTP: {threshold_uV:.0f} µV\")\n",
    "\n",
    "# 이 임계치로 bad-epoch 제거\n",
    "epochs_clean = epochs.copy().drop_bad(\n",
    "    reject=dict(eeg=threshold_V), verbose=True\n",
    ")\n",
    "print(f\" → {len(epochs_clean)}/{len(epochs)} epochs remain\")"
   ]
  },
  {
   "cell_type": "markdown",
   "id": "5bccb526",
   "metadata": {},
   "source": [
    "## 2) 고정 5000 µV 기준"
   ]
  },
  {
   "cell_type": "code",
   "execution_count": 22,
   "id": "b678cfad",
   "metadata": {},
   "outputs": [
    {
     "name": "stdout",
     "output_type": "stream",
     "text": [
      "Manual threshold: 5000 µV\n",
      "    Rejecting  epoch based on EEG : ['Cz']\n",
      "    Rejecting  epoch based on EEG : ['Cz']\n",
      "    Rejecting  epoch based on EEG : ['Cz']\n",
      "    Rejecting  epoch based on EEG : ['Cz']\n",
      "    Rejecting  epoch based on EEG : ['Cz']\n",
      "    Rejecting  epoch based on EEG : ['Cz']\n",
      "    Rejecting  epoch based on EEG : ['Cz']\n",
      "    Rejecting  epoch based on EEG : ['Cz']\n",
      "    Rejecting  epoch based on EEG : ['Cz']\n",
      "    Rejecting  epoch based on EEG : ['Cz']\n",
      "    Rejecting  epoch based on EEG : ['Cz']\n",
      "    Rejecting  epoch based on EEG : ['Cz']\n",
      "    Rejecting  epoch based on EEG : ['Cz', 'Pz']\n",
      "13 bad epochs dropped\n",
      " → 46/59 epochs remain\n"
     ]
    }
   ],
   "source": [
    "threshold_uV = 5000       # µV\n",
    "threshold_V  = threshold_uV * 1e-6\n",
    "print(f\"Manual threshold: {threshold_uV} µV\")\n",
    "\n",
    "epochs_clean = epochs.copy().drop_bad(\n",
    "    reject=dict(eeg=threshold_V), verbose=True\n",
    ")\n",
    "print(f\" → {len(epochs_clean)}/{len(epochs)} epochs remain\")"
   ]
  },
  {
   "cell_type": "markdown",
   "id": "ef9b8917",
   "metadata": {},
   "source": [
    "# 5. Baseline correction & 저장"
   ]
  },
  {
   "cell_type": "code",
   "execution_count": 11,
   "id": "b8e7755c",
   "metadata": {},
   "outputs": [
    {
     "name": "stderr",
     "output_type": "stream",
     "text": [
      "C:\\Users\\Public\\Documents\\ESTsoft\\CreatorTemp\\ipykernel_31832\\416007134.py:2: RuntimeWarning: Saving epochs with no data\n",
      "  epochs_clean.save('AD_clean-epo.fif', overwrite=True)\n",
      "C:\\Users\\Public\\Documents\\ESTsoft\\CreatorTemp\\ipykernel_31832\\416007134.py:2: RuntimeWarning: epochs._get_data() can't run because this Epochs-object is empty. You might want to check Epochs.drop_log or Epochs.plot_drop_log() to see why epochs were dropped.\n",
      "  epochs_clean.save('AD_clean-epo.fif', overwrite=True)\n"
     ]
    },
    {
     "data": {
      "text/plain": [
       "[WindowsPath('c:/Users/Minnie/Desktop/Alzheimer Disease EEG Dataset/AD_clean-epo.fif')]"
      ]
     },
     "execution_count": 11,
     "metadata": {},
     "output_type": "execute_result"
    }
   ],
   "source": [
    "epochs_clean.apply_baseline((None, 0))\n",
    "epochs_clean.save('AD_clean-epo.fif', overwrite=True)\n"
   ]
  },
  {
   "cell_type": "markdown",
   "id": "650f3193",
   "metadata": {},
   "source": [
    "# 6. 시각화"
   ]
  },
  {
   "cell_type": "markdown",
   "id": "263a394f",
   "metadata": {},
   "source": [
    "## 1) ERP 비교 (Fz)"
   ]
  },
  {
   "cell_type": "code",
   "execution_count": 24,
   "id": "3c024291",
   "metadata": {},
   "outputs": [
    {
     "ename": "NameError",
     "evalue": "name 'raw_epochs_bc' is not defined",
     "output_type": "error",
     "traceback": [
      "\u001b[1;31m---------------------------------------------------------------------------\u001b[0m",
      "\u001b[1;31mNameError\u001b[0m                                 Traceback (most recent call last)",
      "Cell \u001b[1;32mIn[24], line 5\u001b[0m\n\u001b[0;32m      2\u001b[0m epochs_clean\u001b[38;5;241m.\u001b[39mapply_baseline((\u001b[38;5;28;01mNone\u001b[39;00m, \u001b[38;5;241m0\u001b[39m))\n\u001b[0;32m      4\u001b[0m \u001b[38;5;66;03m# ❷ ERP 비교 (Fz)\u001b[39;00m\n\u001b[1;32m----> 5\u001b[0m ev_raw   \u001b[38;5;241m=\u001b[39m raw_epochs_bc\u001b[38;5;241m.\u001b[39mcopy()\u001b[38;5;241m.\u001b[39mpick_channels([\u001b[38;5;124m'\u001b[39m\u001b[38;5;124mFz\u001b[39m\u001b[38;5;124m'\u001b[39m])\u001b[38;5;241m.\u001b[39maverage()\n\u001b[0;32m      6\u001b[0m ev_clean \u001b[38;5;241m=\u001b[39m epochs_clean\u001b[38;5;241m.\u001b[39mcopy()\u001b[38;5;241m.\u001b[39mpick_channels([\u001b[38;5;124m'\u001b[39m\u001b[38;5;124mFz\u001b[39m\u001b[38;5;124m'\u001b[39m])\u001b[38;5;241m.\u001b[39maverage()\n\u001b[0;32m      8\u001b[0m plt\u001b[38;5;241m.\u001b[39mfigure(figsize\u001b[38;5;241m=\u001b[39m(\u001b[38;5;241m6\u001b[39m,\u001b[38;5;241m4\u001b[39m))\n",
      "\u001b[1;31mNameError\u001b[0m: name 'raw_epochs_bc' is not defined"
     ]
    }
   ],
   "source": [
    "# ❶ Baseline correction\n",
    "epochs_clean.apply_baseline((None, 0))\n",
    "\n",
    "# ❷ ERP 비교 (Fz)\n",
    "ev_raw   = raw_epochs_bc.copy().pick_channels(['Fz']).average()\n",
    "ev_clean = epochs_clean.copy().pick_channels(['Fz']).average()\n",
    "\n",
    "plt.figure(figsize=(6,4))\n",
    "plt.plot(ev_raw.times,   ev_raw.data[0],   label='Raw')\n",
    "plt.plot(ev_clean.times, ev_clean.data[0], label='Cleaned')\n",
    "plt.axvline(0, color='k', ls='--')\n",
    "plt.xlabel('Time (s)'); plt.ylabel('Amplitude (µV)')\n",
    "plt.legend(); plt.title('AD ERP at Fz')\n",
    "plt.show()"
   ]
  }
 ],
 "metadata": {
  "kernelspec": {
   "display_name": "base",
   "language": "python",
   "name": "python3"
  },
  "language_info": {
   "codemirror_mode": {
    "name": "ipython",
    "version": 3
   },
   "file_extension": ".py",
   "mimetype": "text/x-python",
   "name": "python",
   "nbconvert_exporter": "python",
   "pygments_lexer": "ipython3",
   "version": "3.11.4"
  }
 },
 "nbformat": 4,
 "nbformat_minor": 5
}
