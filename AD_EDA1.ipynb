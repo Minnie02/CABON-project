{
 "cells": [
  {
   "cell_type": "markdown",
   "id": "44952bd7",
   "metadata": {},
   "source": [
    "# 1. 데이터셋 구조 파악"
   ]
  },
  {
   "cell_type": "code",
   "execution_count": 34,
   "id": "90e10d4c",
   "metadata": {},
   "outputs": [],
   "source": [
    "##Alzheimer Disease EEG Dataset/\n",
    " # ├ AD.mat           # 알츠하이머 환자 EEG\n",
    " # ├ MCI.mat          # 경도인지장애(MCI) EEG\n",
    " # ├ Normal.mat       # 정상 노인 EEG\n",
    " # └ MMSE_Data.txt    # 인구통계 및 MMSE 점수\n"
   ]
  },
  {
   "cell_type": "markdown",
   "id": "ea7bab0f",
   "metadata": {},
   "source": [
    "## 1) MAT 파일 안에 든 변수 확인\n"
   ]
  },
  {
   "cell_type": "code",
   "execution_count": 35,
   "id": "39529e6d",
   "metadata": {},
   "outputs": [
    {
     "name": "stdout",
     "output_type": "stream",
     "text": [
      "dict_keys(['__header__', '__version__', '__globals__', 'AD'])\n"
     ]
    }
   ],
   "source": [
    "import scipy.io as sio\n",
    "mat = sio.loadmat(\"AD.mat\", struct_as_record=False, squeeze_me=True)\n",
    "print(mat.keys())  \n",
    "# → dict_keys(['__header__','__version__','__globals__','AD'])\n"
   ]
  },
  {
   "cell_type": "markdown",
   "id": "fa5f083d",
   "metadata": {},
   "source": [
    "## 2) MAT-struct 추출 및 필드 확인"
   ]
  },
  {
   "cell_type": "code",
   "execution_count": 36,
   "id": "5b8b1b48",
   "metadata": {},
   "outputs": [
    {
     "name": "stdout",
     "output_type": "stream",
     "text": [
      "['epoch', 'odor', 'noisy']\n"
     ]
    }
   ],
   "source": [
    "data = mat['AD']          # numpy.ndarray of length 13 (participants)\n",
    "rec  = data[0]            # 첫 번째 피험자의 struct\n",
    "print(rec._fieldnames)    \n",
    "# → ['epoch','odor','noisy']\n"
   ]
  },
  {
   "cell_type": "markdown",
   "id": "59b441bd",
   "metadata": {},
   "source": [
    "## 3) epoch 배열 형태"
   ]
  },
  {
   "cell_type": "code",
   "execution_count": 37,
   "id": "908ee29e",
   "metadata": {},
   "outputs": [
    {
     "name": "stdout",
     "output_type": "stream",
     "text": [
      "(4, 600, 59)\n"
     ]
    }
   ],
   "source": [
    "arr = rec.epoch           # shape == (n_ch, n_times, n_epochs)\n",
    "print(arr.shape)          \n",
    "# → (4, 600, 59)  ⇒ 4채널 × 600샘플 × 59 trials\n"
   ]
  },
  {
   "cell_type": "markdown",
   "id": "0d56d2a6",
   "metadata": {},
   "source": [
    "# 2. 채널·샘플링 정보 추론\n",
    "n_ch = 4 → 채널명은 일반적으로 ['Fp1','Fz','Cz','Pz']\n",
    "\n",
    "n_times = 600, epoch 길이 = 3초(−1…+2초) 가정 →\n",
    "sfreq = 600 / 3.0 = 200 Hz"
   ]
  },
  {
   "cell_type": "code",
   "execution_count": 38,
   "id": "252af1a3",
   "metadata": {},
   "outputs": [
    {
     "name": "stdout",
     "output_type": "stream",
     "text": [
      "Not setting metadata\n",
      "59 matching events found\n",
      "No baseline correction applied\n",
      "0 projection items activated\n",
      "<EpochsArray | 59 events (all good), -1 – 1.995 s (baseline off), ~1.1 MiB, data loaded,\n",
      " '1': 59>\n"
     ]
    }
   ],
   "source": [
    "import mne\n",
    "ch_names = ['Fp1','Fz','Cz','Pz']\n",
    "info     = mne.create_info(ch_names, sfreq=200., ch_types='eeg')\n",
    "epochs   = mne.EpochsArray(arr.transpose(2,0,1), info, tmin=-1.0)\n",
    "print(epochs)\n"
   ]
  },
  {
   "cell_type": "markdown",
   "id": "b06ce00d",
   "metadata": {},
   "source": [
    "# 3. 전처리 파이프라인"
   ]
  },
  {
   "cell_type": "code",
   "execution_count": 39,
   "id": "fd9a57b0",
   "metadata": {},
   "outputs": [
    {
     "name": "stdout",
     "output_type": "stream",
     "text": [
      "▶ ICA components extracted: 3\n",
      "Setting up band-stop filter from 49 - 51 Hz\n",
      "\n",
      "FIR filter parameters\n",
      "---------------------\n",
      "Designing a one-pass, zero-phase, non-causal bandstop filter:\n",
      "- Windowed time-domain design (firwin) method\n",
      "- Hamming window with 0.0194 passband ripple and 53 dB stopband attenuation\n",
      "- Lower passband edge: 49.38\n",
      "- Lower transition bandwidth: 0.50 Hz (-6 dB cutoff frequency: 49.12 Hz)\n",
      "- Upper passband edge: 50.62 Hz\n",
      "- Upper transition bandwidth: 0.50 Hz (-6 dB cutoff frequency: 50.88 Hz)\n",
      "- Filter length: 1321 samples (6.605 s)\n",
      "\n",
      "Setting up band-stop filter from 49 - 51 Hz\n",
      "\n",
      "FIR filter parameters\n",
      "---------------------\n",
      "Designing a one-pass, zero-phase, non-causal bandstop filter:\n",
      "- Windowed time-domain design (firwin) method\n",
      "- Hamming window with 0.0194 passband ripple and 53 dB stopband attenuation\n",
      "- Lower passband edge: 49.38\n",
      "- Lower transition bandwidth: 0.50 Hz (-6 dB cutoff frequency: 49.12 Hz)\n",
      "- Upper passband edge: 50.62 Hz\n",
      "- Upper transition bandwidth: 0.50 Hz (-6 dB cutoff frequency: 50.88 Hz)\n",
      "- Filter length: 1321 samples (6.605 s)\n",
      "\n",
      "Setting up band-stop filter from 49 - 51 Hz\n",
      "\n",
      "FIR filter parameters\n",
      "---------------------\n",
      "Designing a one-pass, zero-phase, non-causal bandstop filter:\n",
      "- Windowed time-domain design (firwin) method\n",
      "- Hamming window with 0.0194 passband ripple and 53 dB stopband attenuation\n",
      "- Lower passband edge: 49.38\n",
      "- Lower transition bandwidth: 0.50 Hz (-6 dB cutoff frequency: 49.12 Hz)\n",
      "- Upper passband edge: 50.62 Hz\n",
      "- Upper transition bandwidth: 0.50 Hz (-6 dB cutoff frequency: 50.88 Hz)\n",
      "- Filter length: 1321 samples (6.605 s)\n",
      "\n",
      "Setting up band-stop filter from 49 - 51 Hz\n",
      "\n",
      "FIR filter parameters\n",
      "---------------------\n",
      "Designing a one-pass, zero-phase, non-causal bandstop filter:\n",
      "- Windowed time-domain design (firwin) method\n",
      "- Hamming window with 0.0194 passband ripple and 53 dB stopband attenuation\n",
      "- Lower passband edge: 49.38\n",
      "- Lower transition bandwidth: 0.50 Hz (-6 dB cutoff frequency: 49.12 Hz)\n",
      "- Upper passband edge: 50.62 Hz\n",
      "- Upper transition bandwidth: 0.50 Hz (-6 dB cutoff frequency: 50.88 Hz)\n",
      "- Filter length: 1321 samples (6.605 s)\n",
      "\n",
      "Setting up band-stop filter from 49 - 51 Hz\n"
     ]
    },
    {
     "name": "stderr",
     "output_type": "stream",
     "text": [
      "C:\\Users\\Public\\Documents\\ESTsoft\\CreatorTemp\\ipykernel_39316\\237626029.py:20: RuntimeWarning: filter_length (1321) is longer than the signal (600), distortion is likely. Reduce filter length or filter a longer signal.\n",
      "  data[i] = notch_filter(data[i], Fs=200., freqs=[50.0])\n",
      "C:\\Users\\Public\\Documents\\ESTsoft\\CreatorTemp\\ipykernel_39316\\237626029.py:20: RuntimeWarning: filter_length (1321) is longer than the signal (600), distortion is likely. Reduce filter length or filter a longer signal.\n",
      "  data[i] = notch_filter(data[i], Fs=200., freqs=[50.0])\n",
      "C:\\Users\\Public\\Documents\\ESTsoft\\CreatorTemp\\ipykernel_39316\\237626029.py:20: RuntimeWarning: filter_length (1321) is longer than the signal (600), distortion is likely. Reduce filter length or filter a longer signal.\n",
      "  data[i] = notch_filter(data[i], Fs=200., freqs=[50.0])\n",
      "C:\\Users\\Public\\Documents\\ESTsoft\\CreatorTemp\\ipykernel_39316\\237626029.py:20: RuntimeWarning: filter_length (1321) is longer than the signal (600), distortion is likely. Reduce filter length or filter a longer signal.\n",
      "  data[i] = notch_filter(data[i], Fs=200., freqs=[50.0])\n"
     ]
    },
    {
     "name": "stdout",
     "output_type": "stream",
     "text": [
      "\n",
      "FIR filter parameters\n",
      "---------------------\n",
      "Designing a one-pass, zero-phase, non-causal bandstop filter:\n",
      "- Windowed time-domain design (firwin) method\n",
      "- Hamming window with 0.0194 passband ripple and 53 dB stopband attenuation\n",
      "- Lower passband edge: 49.38\n",
      "- Lower transition bandwidth: 0.50 Hz (-6 dB cutoff frequency: 49.12 Hz)\n",
      "- Upper passband edge: 50.62 Hz\n",
      "- Upper transition bandwidth: 0.50 Hz (-6 dB cutoff frequency: 50.88 Hz)\n",
      "- Filter length: 1321 samples (6.605 s)\n",
      "\n",
      "Setting up band-stop filter from 49 - 51 Hz\n",
      "\n",
      "FIR filter parameters\n",
      "---------------------\n",
      "Designing a one-pass, zero-phase, non-causal bandstop filter:\n",
      "- Windowed time-domain design (firwin) method\n",
      "- Hamming window with 0.0194 passband ripple and 53 dB stopband attenuation\n",
      "- Lower passband edge: 49.38\n",
      "- Lower transition bandwidth: 0.50 Hz (-6 dB cutoff frequency: 49.12 Hz)\n",
      "- Upper passband edge: 50.62 Hz\n",
      "- Upper transition bandwidth: 0.50 Hz (-6 dB cutoff frequency: 50.88 Hz)\n",
      "- Filter length: 1321 samples (6.605 s)\n",
      "\n",
      "Setting up band-stop filter from 49 - 51 Hz\n",
      "\n",
      "FIR filter parameters\n",
      "---------------------\n",
      "Designing a one-pass, zero-phase, non-causal bandstop filter:\n",
      "- Windowed time-domain design (firwin) method\n",
      "- Hamming window with 0.0194 passband ripple and 53 dB stopband attenuation\n",
      "- Lower passband edge: 49.38\n",
      "- Lower transition bandwidth: 0.50 Hz (-6 dB cutoff frequency: 49.12 Hz)\n",
      "- Upper passband edge: 50.62 Hz\n",
      "- Upper transition bandwidth: 0.50 Hz (-6 dB cutoff frequency: 50.88 Hz)\n",
      "- Filter length: 1321 samples (6.605 s)\n",
      "\n",
      "Setting up band-stop filter from 49 - 51 Hz\n",
      "\n",
      "FIR filter parameters\n",
      "---------------------\n",
      "Designing a one-pass, zero-phase, non-causal bandstop filter:\n",
      "- Windowed time-domain design (firwin) method\n",
      "- Hamming window with 0.0194 passband ripple and 53 dB stopband attenuation\n",
      "- Lower passband edge: 49.38\n",
      "- Lower transition bandwidth: 0.50 Hz (-6 dB cutoff frequency: 49.12 Hz)\n",
      "- Upper passband edge: 50.62 Hz\n",
      "- Upper transition bandwidth: 0.50 Hz (-6 dB cutoff frequency: 50.88 Hz)\n",
      "- Filter length: 1321 samples (6.605 s)\n",
      "\n",
      "Setting up band-stop filter from 49 - 51 Hz\n",
      "\n",
      "FIR filter parameters\n",
      "---------------------\n",
      "Designing a one-pass, zero-phase, non-causal bandstop filter:\n",
      "- Windowed time-domain design (firwin) method\n",
      "- Hamming window with 0.0194 passband ripple and 53 dB stopband attenuation\n",
      "- Lower passband edge: 49.38\n",
      "- Lower transition bandwidth: 0.50 Hz (-6 dB cutoff frequency: 49.12 Hz)\n",
      "- Upper passband edge: 50.62 Hz\n",
      "- Upper transition bandwidth: 0.50 Hz (-6 dB cutoff frequency: 50.88 Hz)\n",
      "- Filter length: 1321 samples (6.605 s)\n",
      "\n"
     ]
    },
    {
     "name": "stderr",
     "output_type": "stream",
     "text": [
      "C:\\Users\\Public\\Documents\\ESTsoft\\CreatorTemp\\ipykernel_39316\\237626029.py:20: RuntimeWarning: filter_length (1321) is longer than the signal (600), distortion is likely. Reduce filter length or filter a longer signal.\n",
      "  data[i] = notch_filter(data[i], Fs=200., freqs=[50.0])\n",
      "C:\\Users\\Public\\Documents\\ESTsoft\\CreatorTemp\\ipykernel_39316\\237626029.py:20: RuntimeWarning: filter_length (1321) is longer than the signal (600), distortion is likely. Reduce filter length or filter a longer signal.\n",
      "  data[i] = notch_filter(data[i], Fs=200., freqs=[50.0])\n",
      "C:\\Users\\Public\\Documents\\ESTsoft\\CreatorTemp\\ipykernel_39316\\237626029.py:20: RuntimeWarning: filter_length (1321) is longer than the signal (600), distortion is likely. Reduce filter length or filter a longer signal.\n",
      "  data[i] = notch_filter(data[i], Fs=200., freqs=[50.0])\n",
      "C:\\Users\\Public\\Documents\\ESTsoft\\CreatorTemp\\ipykernel_39316\\237626029.py:20: RuntimeWarning: filter_length (1321) is longer than the signal (600), distortion is likely. Reduce filter length or filter a longer signal.\n",
      "  data[i] = notch_filter(data[i], Fs=200., freqs=[50.0])\n",
      "C:\\Users\\Public\\Documents\\ESTsoft\\CreatorTemp\\ipykernel_39316\\237626029.py:20: RuntimeWarning: filter_length (1321) is longer than the signal (600), distortion is likely. Reduce filter length or filter a longer signal.\n",
      "  data[i] = notch_filter(data[i], Fs=200., freqs=[50.0])\n"
     ]
    },
    {
     "name": "stdout",
     "output_type": "stream",
     "text": [
      "Setting up band-stop filter from 49 - 51 Hz\n",
      "\n",
      "FIR filter parameters\n",
      "---------------------\n",
      "Designing a one-pass, zero-phase, non-causal bandstop filter:\n",
      "- Windowed time-domain design (firwin) method\n",
      "- Hamming window with 0.0194 passband ripple and 53 dB stopband attenuation\n",
      "- Lower passband edge: 49.38\n",
      "- Lower transition bandwidth: 0.50 Hz (-6 dB cutoff frequency: 49.12 Hz)\n",
      "- Upper passband edge: 50.62 Hz\n",
      "- Upper transition bandwidth: 0.50 Hz (-6 dB cutoff frequency: 50.88 Hz)\n",
      "- Filter length: 1321 samples (6.605 s)\n",
      "\n",
      "Setting up band-stop filter from 49 - 51 Hz\n",
      "\n",
      "FIR filter parameters\n",
      "---------------------\n",
      "Designing a one-pass, zero-phase, non-causal bandstop filter:\n",
      "- Windowed time-domain design (firwin) method\n",
      "- Hamming window with 0.0194 passband ripple and 53 dB stopband attenuation\n",
      "- Lower passband edge: 49.38\n",
      "- Lower transition bandwidth: 0.50 Hz (-6 dB cutoff frequency: 49.12 Hz)\n",
      "- Upper passband edge: 50.62 Hz\n",
      "- Upper transition bandwidth: 0.50 Hz (-6 dB cutoff frequency: 50.88 Hz)\n",
      "- Filter length: 1321 samples (6.605 s)\n",
      "\n",
      "Setting up band-stop filter from 49 - 51 Hz\n",
      "\n",
      "FIR filter parameters\n",
      "---------------------\n",
      "Designing a one-pass, zero-phase, non-causal bandstop filter:\n",
      "- Windowed time-domain design (firwin) method\n",
      "- Hamming window with 0.0194 passband ripple and 53 dB stopband attenuation\n",
      "- Lower passband edge: 49.38\n",
      "- Lower transition bandwidth: 0.50 Hz (-6 dB cutoff frequency: 49.12 Hz)\n",
      "- Upper passband edge: 50.62 Hz\n",
      "- Upper transition bandwidth: 0.50 Hz (-6 dB cutoff frequency: 50.88 Hz)\n",
      "- Filter length: 1321 samples (6.605 s)\n",
      "\n",
      "Setting up band-stop filter from 49 - 51 Hz\n",
      "\n",
      "FIR filter parameters\n",
      "---------------------\n",
      "Designing a one-pass, zero-phase, non-causal bandstop filter:\n",
      "- Windowed time-domain design (firwin) method\n",
      "- Hamming window with 0.0194 passband ripple and 53 dB stopband attenuation\n",
      "- Lower passband edge: 49.38\n",
      "- Lower transition bandwidth: 0.50 Hz (-6 dB cutoff frequency: 49.12 Hz)\n",
      "- Upper passband edge: 50.62 Hz\n",
      "- Upper transition bandwidth: 0.50 Hz (-6 dB cutoff frequency: 50.88 Hz)\n",
      "- Filter length: 1321 samples (6.605 s)\n",
      "\n",
      "Setting up band-stop filter from 49 - 51 Hz\n"
     ]
    },
    {
     "name": "stderr",
     "output_type": "stream",
     "text": [
      "C:\\Users\\Public\\Documents\\ESTsoft\\CreatorTemp\\ipykernel_39316\\237626029.py:20: RuntimeWarning: filter_length (1321) is longer than the signal (600), distortion is likely. Reduce filter length or filter a longer signal.\n",
      "  data[i] = notch_filter(data[i], Fs=200., freqs=[50.0])\n",
      "C:\\Users\\Public\\Documents\\ESTsoft\\CreatorTemp\\ipykernel_39316\\237626029.py:20: RuntimeWarning: filter_length (1321) is longer than the signal (600), distortion is likely. Reduce filter length or filter a longer signal.\n",
      "  data[i] = notch_filter(data[i], Fs=200., freqs=[50.0])\n",
      "C:\\Users\\Public\\Documents\\ESTsoft\\CreatorTemp\\ipykernel_39316\\237626029.py:20: RuntimeWarning: filter_length (1321) is longer than the signal (600), distortion is likely. Reduce filter length or filter a longer signal.\n",
      "  data[i] = notch_filter(data[i], Fs=200., freqs=[50.0])\n",
      "C:\\Users\\Public\\Documents\\ESTsoft\\CreatorTemp\\ipykernel_39316\\237626029.py:20: RuntimeWarning: filter_length (1321) is longer than the signal (600), distortion is likely. Reduce filter length or filter a longer signal.\n",
      "  data[i] = notch_filter(data[i], Fs=200., freqs=[50.0])\n"
     ]
    },
    {
     "name": "stdout",
     "output_type": "stream",
     "text": [
      "\n",
      "FIR filter parameters\n",
      "---------------------\n",
      "Designing a one-pass, zero-phase, non-causal bandstop filter:\n",
      "- Windowed time-domain design (firwin) method\n",
      "- Hamming window with 0.0194 passband ripple and 53 dB stopband attenuation\n",
      "- Lower passband edge: 49.38\n",
      "- Lower transition bandwidth: 0.50 Hz (-6 dB cutoff frequency: 49.12 Hz)\n",
      "- Upper passband edge: 50.62 Hz\n",
      "- Upper transition bandwidth: 0.50 Hz (-6 dB cutoff frequency: 50.88 Hz)\n",
      "- Filter length: 1321 samples (6.605 s)\n",
      "\n",
      "Setting up band-stop filter from 49 - 51 Hz\n",
      "\n",
      "FIR filter parameters\n",
      "---------------------\n",
      "Designing a one-pass, zero-phase, non-causal bandstop filter:\n",
      "- Windowed time-domain design (firwin) method\n",
      "- Hamming window with 0.0194 passband ripple and 53 dB stopband attenuation\n",
      "- Lower passband edge: 49.38\n",
      "- Lower transition bandwidth: 0.50 Hz (-6 dB cutoff frequency: 49.12 Hz)\n",
      "- Upper passband edge: 50.62 Hz\n",
      "- Upper transition bandwidth: 0.50 Hz (-6 dB cutoff frequency: 50.88 Hz)\n",
      "- Filter length: 1321 samples (6.605 s)\n",
      "\n",
      "Setting up band-stop filter from 49 - 51 Hz\n",
      "\n",
      "FIR filter parameters\n",
      "---------------------\n",
      "Designing a one-pass, zero-phase, non-causal bandstop filter:\n",
      "- Windowed time-domain design (firwin) method\n",
      "- Hamming window with 0.0194 passband ripple and 53 dB stopband attenuation\n",
      "- Lower passband edge: 49.38\n",
      "- Lower transition bandwidth: 0.50 Hz (-6 dB cutoff frequency: 49.12 Hz)\n",
      "- Upper passband edge: 50.62 Hz\n",
      "- Upper transition bandwidth: 0.50 Hz (-6 dB cutoff frequency: 50.88 Hz)\n",
      "- Filter length: 1321 samples (6.605 s)\n",
      "\n",
      "Setting up band-stop filter from 49 - 51 Hz\n",
      "\n",
      "FIR filter parameters\n",
      "---------------------\n",
      "Designing a one-pass, zero-phase, non-causal bandstop filter:\n",
      "- Windowed time-domain design (firwin) method\n",
      "- Hamming window with 0.0194 passband ripple and 53 dB stopband attenuation\n",
      "- Lower passband edge: 49.38\n",
      "- Lower transition bandwidth: 0.50 Hz (-6 dB cutoff frequency: 49.12 Hz)\n",
      "- Upper passband edge: 50.62 Hz\n",
      "- Upper transition bandwidth: 0.50 Hz (-6 dB cutoff frequency: 50.88 Hz)\n",
      "- Filter length: 1321 samples (6.605 s)\n",
      "\n",
      "Setting up band-stop filter from 49 - 51 Hz\n",
      "\n",
      "FIR filter parameters\n",
      "---------------------\n",
      "Designing a one-pass, zero-phase, non-causal bandstop filter:\n",
      "- Windowed time-domain design (firwin) method\n",
      "- Hamming window with 0.0194 passband ripple and 53 dB stopband attenuation\n",
      "- Lower passband edge: 49.38\n",
      "- Lower transition bandwidth: 0.50 Hz (-6 dB cutoff frequency: 49.12 Hz)\n",
      "- Upper passband edge: 50.62 Hz\n",
      "- Upper transition bandwidth: 0.50 Hz (-6 dB cutoff frequency: 50.88 Hz)\n",
      "- Filter length: 1321 samples (6.605 s)\n",
      "\n",
      "Setting up band-stop filter from 49 - 51 Hz\n",
      "\n",
      "FIR filter parameters\n",
      "---------------------\n"
     ]
    },
    {
     "name": "stderr",
     "output_type": "stream",
     "text": [
      "C:\\Users\\Public\\Documents\\ESTsoft\\CreatorTemp\\ipykernel_39316\\237626029.py:20: RuntimeWarning: filter_length (1321) is longer than the signal (600), distortion is likely. Reduce filter length or filter a longer signal.\n",
      "  data[i] = notch_filter(data[i], Fs=200., freqs=[50.0])\n",
      "C:\\Users\\Public\\Documents\\ESTsoft\\CreatorTemp\\ipykernel_39316\\237626029.py:20: RuntimeWarning: filter_length (1321) is longer than the signal (600), distortion is likely. Reduce filter length or filter a longer signal.\n",
      "  data[i] = notch_filter(data[i], Fs=200., freqs=[50.0])\n",
      "C:\\Users\\Public\\Documents\\ESTsoft\\CreatorTemp\\ipykernel_39316\\237626029.py:20: RuntimeWarning: filter_length (1321) is longer than the signal (600), distortion is likely. Reduce filter length or filter a longer signal.\n",
      "  data[i] = notch_filter(data[i], Fs=200., freqs=[50.0])\n",
      "C:\\Users\\Public\\Documents\\ESTsoft\\CreatorTemp\\ipykernel_39316\\237626029.py:20: RuntimeWarning: filter_length (1321) is longer than the signal (600), distortion is likely. Reduce filter length or filter a longer signal.\n",
      "  data[i] = notch_filter(data[i], Fs=200., freqs=[50.0])\n",
      "C:\\Users\\Public\\Documents\\ESTsoft\\CreatorTemp\\ipykernel_39316\\237626029.py:20: RuntimeWarning: filter_length (1321) is longer than the signal (600), distortion is likely. Reduce filter length or filter a longer signal.\n",
      "  data[i] = notch_filter(data[i], Fs=200., freqs=[50.0])\n"
     ]
    },
    {
     "name": "stdout",
     "output_type": "stream",
     "text": [
      "Designing a one-pass, zero-phase, non-causal bandstop filter:\n",
      "- Windowed time-domain design (firwin) method\n",
      "- Hamming window with 0.0194 passband ripple and 53 dB stopband attenuation\n",
      "- Lower passband edge: 49.38\n",
      "- Lower transition bandwidth: 0.50 Hz (-6 dB cutoff frequency: 49.12 Hz)\n",
      "- Upper passband edge: 50.62 Hz\n",
      "- Upper transition bandwidth: 0.50 Hz (-6 dB cutoff frequency: 50.88 Hz)\n",
      "- Filter length: 1321 samples (6.605 s)\n",
      "\n",
      "Setting up band-stop filter from 49 - 51 Hz\n",
      "\n",
      "FIR filter parameters\n",
      "---------------------\n",
      "Designing a one-pass, zero-phase, non-causal bandstop filter:\n",
      "- Windowed time-domain design (firwin) method\n",
      "- Hamming window with 0.0194 passband ripple and 53 dB stopband attenuation\n",
      "- Lower passband edge: 49.38\n",
      "- Lower transition bandwidth: 0.50 Hz (-6 dB cutoff frequency: 49.12 Hz)\n",
      "- Upper passband edge: 50.62 Hz\n",
      "- Upper transition bandwidth: 0.50 Hz (-6 dB cutoff frequency: 50.88 Hz)\n",
      "- Filter length: 1321 samples (6.605 s)\n",
      "\n",
      "Setting up band-stop filter from 49 - 51 Hz\n",
      "\n",
      "FIR filter parameters\n",
      "---------------------\n",
      "Designing a one-pass, zero-phase, non-causal bandstop filter:\n",
      "- Windowed time-domain design (firwin) method\n",
      "- Hamming window with 0.0194 passband ripple and 53 dB stopband attenuation\n",
      "- Lower passband edge: 49.38\n",
      "- Lower transition bandwidth: 0.50 Hz (-6 dB cutoff frequency: 49.12 Hz)\n",
      "- Upper passband edge: 50.62 Hz\n",
      "- Upper transition bandwidth: 0.50 Hz (-6 dB cutoff frequency: 50.88 Hz)\n",
      "- Filter length: 1321 samples (6.605 s)\n",
      "\n",
      "Setting up band-stop filter from 49 - 51 Hz\n",
      "\n",
      "FIR filter parameters\n",
      "---------------------\n",
      "Designing a one-pass, zero-phase, non-causal bandstop filter:\n",
      "- Windowed time-domain design (firwin) method\n",
      "- Hamming window with 0.0194 passband ripple and 53 dB stopband attenuation\n",
      "- Lower passband edge: 49.38\n",
      "- Lower transition bandwidth: 0.50 Hz (-6 dB cutoff frequency: 49.12 Hz)\n",
      "- Upper passband edge: 50.62 Hz\n",
      "- Upper transition bandwidth: 0.50 Hz (-6 dB cutoff frequency: 50.88 Hz)\n",
      "- Filter length: 1321 samples (6.605 s)\n",
      "\n",
      "Setting up band-stop filter from 49 - 51 Hz\n"
     ]
    },
    {
     "name": "stderr",
     "output_type": "stream",
     "text": [
      "C:\\Users\\Public\\Documents\\ESTsoft\\CreatorTemp\\ipykernel_39316\\237626029.py:20: RuntimeWarning: filter_length (1321) is longer than the signal (600), distortion is likely. Reduce filter length or filter a longer signal.\n",
      "  data[i] = notch_filter(data[i], Fs=200., freqs=[50.0])\n",
      "C:\\Users\\Public\\Documents\\ESTsoft\\CreatorTemp\\ipykernel_39316\\237626029.py:20: RuntimeWarning: filter_length (1321) is longer than the signal (600), distortion is likely. Reduce filter length or filter a longer signal.\n",
      "  data[i] = notch_filter(data[i], Fs=200., freqs=[50.0])\n",
      "C:\\Users\\Public\\Documents\\ESTsoft\\CreatorTemp\\ipykernel_39316\\237626029.py:20: RuntimeWarning: filter_length (1321) is longer than the signal (600), distortion is likely. Reduce filter length or filter a longer signal.\n",
      "  data[i] = notch_filter(data[i], Fs=200., freqs=[50.0])\n",
      "C:\\Users\\Public\\Documents\\ESTsoft\\CreatorTemp\\ipykernel_39316\\237626029.py:20: RuntimeWarning: filter_length (1321) is longer than the signal (600), distortion is likely. Reduce filter length or filter a longer signal.\n",
      "  data[i] = notch_filter(data[i], Fs=200., freqs=[50.0])\n"
     ]
    },
    {
     "name": "stdout",
     "output_type": "stream",
     "text": [
      "\n",
      "FIR filter parameters\n",
      "---------------------\n",
      "Designing a one-pass, zero-phase, non-causal bandstop filter:\n",
      "- Windowed time-domain design (firwin) method\n",
      "- Hamming window with 0.0194 passband ripple and 53 dB stopband attenuation\n",
      "- Lower passband edge: 49.38\n",
      "- Lower transition bandwidth: 0.50 Hz (-6 dB cutoff frequency: 49.12 Hz)\n",
      "- Upper passband edge: 50.62 Hz\n",
      "- Upper transition bandwidth: 0.50 Hz (-6 dB cutoff frequency: 50.88 Hz)\n",
      "- Filter length: 1321 samples (6.605 s)\n",
      "\n",
      "Setting up band-stop filter from 49 - 51 Hz\n",
      "\n",
      "FIR filter parameters\n",
      "---------------------\n",
      "Designing a one-pass, zero-phase, non-causal bandstop filter:\n",
      "- Windowed time-domain design (firwin) method\n",
      "- Hamming window with 0.0194 passband ripple and 53 dB stopband attenuation\n",
      "- Lower passband edge: 49.38\n",
      "- Lower transition bandwidth: 0.50 Hz (-6 dB cutoff frequency: 49.12 Hz)\n",
      "- Upper passband edge: 50.62 Hz\n",
      "- Upper transition bandwidth: 0.50 Hz (-6 dB cutoff frequency: 50.88 Hz)\n",
      "- Filter length: 1321 samples (6.605 s)\n",
      "\n",
      "Setting up band-stop filter from 49 - 51 Hz\n",
      "\n",
      "FIR filter parameters\n",
      "---------------------\n",
      "Designing a one-pass, zero-phase, non-causal bandstop filter:\n",
      "- Windowed time-domain design (firwin) method\n",
      "- Hamming window with 0.0194 passband ripple and 53 dB stopband attenuation\n",
      "- Lower passband edge: 49.38\n",
      "- Lower transition bandwidth: 0.50 Hz (-6 dB cutoff frequency: 49.12 Hz)\n",
      "- Upper passband edge: 50.62 Hz\n",
      "- Upper transition bandwidth: 0.50 Hz (-6 dB cutoff frequency: 50.88 Hz)\n",
      "- Filter length: 1321 samples (6.605 s)\n",
      "\n",
      "Setting up band-stop filter from 49 - 51 Hz\n",
      "\n",
      "FIR filter parameters\n",
      "---------------------\n",
      "Designing a one-pass, zero-phase, non-causal bandstop filter:\n",
      "- Windowed time-domain design (firwin) method\n",
      "- Hamming window with 0.0194 passband ripple and 53 dB stopband attenuation\n",
      "- Lower passband edge: 49.38\n",
      "- Lower transition bandwidth: 0.50 Hz (-6 dB cutoff frequency: 49.12 Hz)\n",
      "- Upper passband edge: 50.62 Hz\n",
      "- Upper transition bandwidth: 0.50 Hz (-6 dB cutoff frequency: 50.88 Hz)\n",
      "- Filter length: 1321 samples (6.605 s)\n",
      "\n",
      "Setting up band-stop filter from 49 - 51 Hz\n",
      "\n",
      "FIR filter parameters\n",
      "---------------------\n",
      "Designing a one-pass, zero-phase, non-causal bandstop filter:\n",
      "- Windowed time-domain design (firwin) method\n",
      "- Hamming window with 0.0194 passband ripple and 53 dB stopband attenuation\n",
      "- Lower passband edge: 49.38\n",
      "- Lower transition bandwidth: 0.50 Hz (-6 dB cutoff frequency: 49.12 Hz)\n",
      "- Upper passband edge: 50.62 Hz\n",
      "- Upper transition bandwidth: 0.50 Hz (-6 dB cutoff frequency: 50.88 Hz)\n",
      "- Filter length: 1321 samples (6.605 s)\n",
      "\n",
      "Setting up band-stop filter from 49 - 51 Hz\n",
      "\n",
      "FIR filter parameters\n",
      "---------------------\n",
      "Designing a one-pass, zero-phase, non-causal bandstop filter:\n",
      "- Windowed time-domain design (firwin) method\n",
      "- Hamming window with 0.0194 passband ripple and 53 dB stopband attenuation\n",
      "- Lower passband edge: 49.38\n",
      "- Lower transition bandwidth: 0.50 Hz (-6 dB cutoff frequency: 49.12 Hz)\n",
      "- Upper passband edge: 50.62 Hz\n",
      "- Upper transition bandwidth: 0.50 Hz (-6 dB cutoff frequency: 50.88 Hz)\n",
      "- Filter length: 1321 samples (6.605 s)\n",
      "\n",
      "Setting up band-stop filter from 49 - 51 Hz\n",
      "\n",
      "FIR filter parameters\n"
     ]
    },
    {
     "name": "stderr",
     "output_type": "stream",
     "text": [
      "C:\\Users\\Public\\Documents\\ESTsoft\\CreatorTemp\\ipykernel_39316\\237626029.py:20: RuntimeWarning: filter_length (1321) is longer than the signal (600), distortion is likely. Reduce filter length or filter a longer signal.\n",
      "  data[i] = notch_filter(data[i], Fs=200., freqs=[50.0])\n",
      "C:\\Users\\Public\\Documents\\ESTsoft\\CreatorTemp\\ipykernel_39316\\237626029.py:20: RuntimeWarning: filter_length (1321) is longer than the signal (600), distortion is likely. Reduce filter length or filter a longer signal.\n",
      "  data[i] = notch_filter(data[i], Fs=200., freqs=[50.0])\n",
      "C:\\Users\\Public\\Documents\\ESTsoft\\CreatorTemp\\ipykernel_39316\\237626029.py:20: RuntimeWarning: filter_length (1321) is longer than the signal (600), distortion is likely. Reduce filter length or filter a longer signal.\n",
      "  data[i] = notch_filter(data[i], Fs=200., freqs=[50.0])\n",
      "C:\\Users\\Public\\Documents\\ESTsoft\\CreatorTemp\\ipykernel_39316\\237626029.py:20: RuntimeWarning: filter_length (1321) is longer than the signal (600), distortion is likely. Reduce filter length or filter a longer signal.\n",
      "  data[i] = notch_filter(data[i], Fs=200., freqs=[50.0])\n",
      "C:\\Users\\Public\\Documents\\ESTsoft\\CreatorTemp\\ipykernel_39316\\237626029.py:20: RuntimeWarning: filter_length (1321) is longer than the signal (600), distortion is likely. Reduce filter length or filter a longer signal.\n",
      "  data[i] = notch_filter(data[i], Fs=200., freqs=[50.0])\n",
      "C:\\Users\\Public\\Documents\\ESTsoft\\CreatorTemp\\ipykernel_39316\\237626029.py:20: RuntimeWarning: filter_length (1321) is longer than the signal (600), distortion is likely. Reduce filter length or filter a longer signal.\n",
      "  data[i] = notch_filter(data[i], Fs=200., freqs=[50.0])\n"
     ]
    },
    {
     "name": "stdout",
     "output_type": "stream",
     "text": [
      "---------------------\n",
      "Designing a one-pass, zero-phase, non-causal bandstop filter:\n",
      "- Windowed time-domain design (firwin) method\n",
      "- Hamming window with 0.0194 passband ripple and 53 dB stopband attenuation\n",
      "- Lower passband edge: 49.38\n",
      "- Lower transition bandwidth: 0.50 Hz (-6 dB cutoff frequency: 49.12 Hz)\n",
      "- Upper passband edge: 50.62 Hz\n",
      "- Upper transition bandwidth: 0.50 Hz (-6 dB cutoff frequency: 50.88 Hz)\n",
      "- Filter length: 1321 samples (6.605 s)\n",
      "\n",
      "Setting up band-stop filter from 49 - 51 Hz\n",
      "\n",
      "FIR filter parameters\n",
      "---------------------\n",
      "Designing a one-pass, zero-phase, non-causal bandstop filter:\n",
      "- Windowed time-domain design (firwin) method\n",
      "- Hamming window with 0.0194 passband ripple and 53 dB stopband attenuation\n",
      "- Lower passband edge: 49.38\n",
      "- Lower transition bandwidth: 0.50 Hz (-6 dB cutoff frequency: 49.12 Hz)\n",
      "- Upper passband edge: 50.62 Hz\n",
      "- Upper transition bandwidth: 0.50 Hz (-6 dB cutoff frequency: 50.88 Hz)\n",
      "- Filter length: 1321 samples (6.605 s)\n",
      "\n",
      "Setting up band-stop filter from 49 - 51 Hz\n",
      "\n",
      "FIR filter parameters\n",
      "---------------------\n",
      "Designing a one-pass, zero-phase, non-causal bandstop filter:\n",
      "- Windowed time-domain design (firwin) method\n",
      "- Hamming window with 0.0194 passband ripple and 53 dB stopband attenuation\n",
      "- Lower passband edge: 49.38\n",
      "- Lower transition bandwidth: 0.50 Hz (-6 dB cutoff frequency: 49.12 Hz)\n",
      "- Upper passband edge: 50.62 Hz\n",
      "- Upper transition bandwidth: 0.50 Hz (-6 dB cutoff frequency: 50.88 Hz)\n",
      "- Filter length: 1321 samples (6.605 s)\n",
      "\n",
      "Setting up band-stop filter from 49 - 51 Hz\n",
      "\n",
      "FIR filter parameters\n",
      "---------------------\n",
      "Designing a one-pass, zero-phase, non-causal bandstop filter:\n",
      "- Windowed time-domain design (firwin) method\n",
      "- Hamming window with 0.0194 passband ripple and 53 dB stopband attenuation\n",
      "- Lower passband edge: 49.38\n",
      "- Lower transition bandwidth: 0.50 Hz (-6 dB cutoff frequency: 49.12 Hz)\n",
      "- Upper passband edge: 50.62 Hz\n",
      "- Upper transition bandwidth: 0.50 Hz (-6 dB cutoff frequency: 50.88 Hz)\n",
      "- Filter length: 1321 samples (6.605 s)\n",
      "\n",
      "Setting up band-stop filter from 49 - 51 Hz\n",
      "\n",
      "FIR filter parameters\n",
      "---------------------\n",
      "Designing a one-pass, zero-phase, non-causal bandstop filter:\n",
      "- Windowed time-domain design (firwin) method\n",
      "- Hamming window with 0.0194 passband ripple and 53 dB stopband attenuation\n",
      "- Lower passband edge: 49.38\n",
      "- Lower transition bandwidth: 0.50 Hz (-6 dB cutoff frequency: 49.12 Hz)\n",
      "- Upper passband edge: 50.62 Hz\n",
      "- Upper transition bandwidth: 0.50 Hz (-6 dB cutoff frequency: 50.88 Hz)\n",
      "- Filter length: 1321 samples (6.605 s)\n"
     ]
    },
    {
     "name": "stderr",
     "output_type": "stream",
     "text": [
      "C:\\Users\\Public\\Documents\\ESTsoft\\CreatorTemp\\ipykernel_39316\\237626029.py:20: RuntimeWarning: filter_length (1321) is longer than the signal (600), distortion is likely. Reduce filter length or filter a longer signal.\n",
      "  data[i] = notch_filter(data[i], Fs=200., freqs=[50.0])\n",
      "C:\\Users\\Public\\Documents\\ESTsoft\\CreatorTemp\\ipykernel_39316\\237626029.py:20: RuntimeWarning: filter_length (1321) is longer than the signal (600), distortion is likely. Reduce filter length or filter a longer signal.\n",
      "  data[i] = notch_filter(data[i], Fs=200., freqs=[50.0])\n",
      "C:\\Users\\Public\\Documents\\ESTsoft\\CreatorTemp\\ipykernel_39316\\237626029.py:20: RuntimeWarning: filter_length (1321) is longer than the signal (600), distortion is likely. Reduce filter length or filter a longer signal.\n",
      "  data[i] = notch_filter(data[i], Fs=200., freqs=[50.0])\n",
      "C:\\Users\\Public\\Documents\\ESTsoft\\CreatorTemp\\ipykernel_39316\\237626029.py:20: RuntimeWarning: filter_length (1321) is longer than the signal (600), distortion is likely. Reduce filter length or filter a longer signal.\n",
      "  data[i] = notch_filter(data[i], Fs=200., freqs=[50.0])\n"
     ]
    },
    {
     "name": "stdout",
     "output_type": "stream",
     "text": [
      "\n",
      "Setting up band-stop filter from 49 - 51 Hz\n",
      "\n",
      "FIR filter parameters\n",
      "---------------------\n",
      "Designing a one-pass, zero-phase, non-causal bandstop filter:\n",
      "- Windowed time-domain design (firwin) method\n",
      "- Hamming window with 0.0194 passband ripple and 53 dB stopband attenuation\n",
      "- Lower passband edge: 49.38\n",
      "- Lower transition bandwidth: 0.50 Hz (-6 dB cutoff frequency: 49.12 Hz)\n",
      "- Upper passband edge: 50.62 Hz\n",
      "- Upper transition bandwidth: 0.50 Hz (-6 dB cutoff frequency: 50.88 Hz)\n",
      "- Filter length: 1321 samples (6.605 s)\n",
      "\n",
      "Setting up band-stop filter from 49 - 51 Hz\n",
      "\n",
      "FIR filter parameters\n",
      "---------------------\n",
      "Designing a one-pass, zero-phase, non-causal bandstop filter:\n",
      "- Windowed time-domain design (firwin) method\n",
      "- Hamming window with 0.0194 passband ripple and 53 dB stopband attenuation\n",
      "- Lower passband edge: 49.38\n",
      "- Lower transition bandwidth: 0.50 Hz (-6 dB cutoff frequency: 49.12 Hz)\n",
      "- Upper passband edge: 50.62 Hz\n",
      "- Upper transition bandwidth: 0.50 Hz (-6 dB cutoff frequency: 50.88 Hz)\n",
      "- Filter length: 1321 samples (6.605 s)\n",
      "\n",
      "Setting up band-stop filter from 49 - 51 Hz\n",
      "\n",
      "FIR filter parameters\n",
      "---------------------\n",
      "Designing a one-pass, zero-phase, non-causal bandstop filter:\n",
      "- Windowed time-domain design (firwin) method\n",
      "- Hamming window with 0.0194 passband ripple and 53 dB stopband attenuation\n",
      "- Lower passband edge: 49.38\n",
      "- Lower transition bandwidth: 0.50 Hz (-6 dB cutoff frequency: 49.12 Hz)\n",
      "- Upper passband edge: 50.62 Hz\n",
      "- Upper transition bandwidth: 0.50 Hz (-6 dB cutoff frequency: 50.88 Hz)\n",
      "- Filter length: 1321 samples (6.605 s)\n",
      "\n",
      "Setting up band-stop filter from 49 - 51 Hz\n",
      "\n",
      "FIR filter parameters\n",
      "---------------------\n",
      "Designing a one-pass, zero-phase, non-causal bandstop filter:\n",
      "- Windowed time-domain design (firwin) method\n",
      "- Hamming window with 0.0194 passband ripple and 53 dB stopband attenuation\n",
      "- Lower passband edge: 49.38\n",
      "- Lower transition bandwidth: 0.50 Hz (-6 dB cutoff frequency: 49.12 Hz)\n",
      "- Upper passband edge: 50.62 Hz\n",
      "- Upper transition bandwidth: 0.50 Hz (-6 dB cutoff frequency: 50.88 Hz)\n",
      "- Filter length: 1321 samples (6.605 s)\n",
      "\n",
      "Setting up band-stop filter from 49 - 51 Hz\n",
      "\n",
      "FIR filter parameters\n",
      "---------------------\n",
      "Designing a one-pass, zero-phase, non-causal bandstop filter:\n",
      "- Windowed time-domain design (firwin) method\n",
      "- Hamming window with 0.0194 passband ripple and 53 dB stopband attenuation\n",
      "- Lower passband edge: 49.38\n",
      "- Lower transition bandwidth: 0.50 Hz (-6 dB cutoff frequency: 49.12 Hz)\n",
      "- Upper passband edge: 50.62 Hz\n",
      "- Upper transition bandwidth: 0.50 Hz (-6 dB cutoff frequency: 50.88 Hz)\n",
      "- Filter length: 1321 samples (6.605 s)\n",
      "\n"
     ]
    },
    {
     "name": "stderr",
     "output_type": "stream",
     "text": [
      "C:\\Users\\Public\\Documents\\ESTsoft\\CreatorTemp\\ipykernel_39316\\237626029.py:20: RuntimeWarning: filter_length (1321) is longer than the signal (600), distortion is likely. Reduce filter length or filter a longer signal.\n",
      "  data[i] = notch_filter(data[i], Fs=200., freqs=[50.0])\n",
      "C:\\Users\\Public\\Documents\\ESTsoft\\CreatorTemp\\ipykernel_39316\\237626029.py:20: RuntimeWarning: filter_length (1321) is longer than the signal (600), distortion is likely. Reduce filter length or filter a longer signal.\n",
      "  data[i] = notch_filter(data[i], Fs=200., freqs=[50.0])\n",
      "C:\\Users\\Public\\Documents\\ESTsoft\\CreatorTemp\\ipykernel_39316\\237626029.py:20: RuntimeWarning: filter_length (1321) is longer than the signal (600), distortion is likely. Reduce filter length or filter a longer signal.\n",
      "  data[i] = notch_filter(data[i], Fs=200., freqs=[50.0])\n",
      "C:\\Users\\Public\\Documents\\ESTsoft\\CreatorTemp\\ipykernel_39316\\237626029.py:20: RuntimeWarning: filter_length (1321) is longer than the signal (600), distortion is likely. Reduce filter length or filter a longer signal.\n",
      "  data[i] = notch_filter(data[i], Fs=200., freqs=[50.0])\n",
      "C:\\Users\\Public\\Documents\\ESTsoft\\CreatorTemp\\ipykernel_39316\\237626029.py:20: RuntimeWarning: filter_length (1321) is longer than the signal (600), distortion is likely. Reduce filter length or filter a longer signal.\n",
      "  data[i] = notch_filter(data[i], Fs=200., freqs=[50.0])\n"
     ]
    },
    {
     "name": "stdout",
     "output_type": "stream",
     "text": [
      "Setting up band-stop filter from 49 - 51 Hz\n",
      "\n",
      "FIR filter parameters\n",
      "---------------------\n",
      "Designing a one-pass, zero-phase, non-causal bandstop filter:\n",
      "- Windowed time-domain design (firwin) method\n",
      "- Hamming window with 0.0194 passband ripple and 53 dB stopband attenuation\n",
      "- Lower passband edge: 49.38\n",
      "- Lower transition bandwidth: 0.50 Hz (-6 dB cutoff frequency: 49.12 Hz)\n",
      "- Upper passband edge: 50.62 Hz\n",
      "- Upper transition bandwidth: 0.50 Hz (-6 dB cutoff frequency: 50.88 Hz)\n",
      "- Filter length: 1321 samples (6.605 s)\n",
      "\n",
      "Setting up band-stop filter from 49 - 51 Hz\n",
      "\n",
      "FIR filter parameters\n",
      "---------------------\n",
      "Designing a one-pass, zero-phase, non-causal bandstop filter:\n",
      "- Windowed time-domain design (firwin) method\n",
      "- Hamming window with 0.0194 passband ripple and 53 dB stopband attenuation\n",
      "- Lower passband edge: 49.38\n",
      "- Lower transition bandwidth: 0.50 Hz (-6 dB cutoff frequency: 49.12 Hz)\n",
      "- Upper passband edge: 50.62 Hz\n",
      "- Upper transition bandwidth: 0.50 Hz (-6 dB cutoff frequency: 50.88 Hz)\n",
      "- Filter length: 1321 samples (6.605 s)\n",
      "\n",
      "Setting up band-stop filter from 49 - 51 Hz\n",
      "\n",
      "FIR filter parameters\n",
      "---------------------\n",
      "Designing a one-pass, zero-phase, non-causal bandstop filter:\n",
      "- Windowed time-domain design (firwin) method\n",
      "- Hamming window with 0.0194 passband ripple and 53 dB stopband attenuation\n",
      "- Lower passband edge: 49.38\n",
      "- Lower transition bandwidth: 0.50 Hz (-6 dB cutoff frequency: 49.12 Hz)\n",
      "- Upper passband edge: 50.62 Hz\n",
      "- Upper transition bandwidth: 0.50 Hz (-6 dB cutoff frequency: 50.88 Hz)\n",
      "- Filter length: 1321 samples (6.605 s)\n",
      "\n",
      "Setting up band-stop filter from 49 - 51 Hz\n",
      "\n",
      "FIR filter parameters\n",
      "---------------------\n",
      "Designing a one-pass, zero-phase, non-causal bandstop filter:\n",
      "- Windowed time-domain design (firwin) method\n",
      "- Hamming window with 0.0194 passband ripple and 53 dB stopband attenuation\n",
      "- Lower passband edge: 49.38\n",
      "- Lower transition bandwidth: 0.50 Hz (-6 dB cutoff frequency: 49.12 Hz)\n",
      "- Upper passband edge: 50.62 Hz\n",
      "- Upper transition bandwidth: 0.50 Hz (-6 dB cutoff frequency: 50.88 Hz)\n",
      "- Filter length: 1321 samples (6.605 s)\n",
      "\n",
      "Setting up band-stop filter from 49 - 51 Hz\n"
     ]
    },
    {
     "name": "stderr",
     "output_type": "stream",
     "text": [
      "C:\\Users\\Public\\Documents\\ESTsoft\\CreatorTemp\\ipykernel_39316\\237626029.py:20: RuntimeWarning: filter_length (1321) is longer than the signal (600), distortion is likely. Reduce filter length or filter a longer signal.\n",
      "  data[i] = notch_filter(data[i], Fs=200., freqs=[50.0])\n",
      "C:\\Users\\Public\\Documents\\ESTsoft\\CreatorTemp\\ipykernel_39316\\237626029.py:20: RuntimeWarning: filter_length (1321) is longer than the signal (600), distortion is likely. Reduce filter length or filter a longer signal.\n",
      "  data[i] = notch_filter(data[i], Fs=200., freqs=[50.0])\n",
      "C:\\Users\\Public\\Documents\\ESTsoft\\CreatorTemp\\ipykernel_39316\\237626029.py:20: RuntimeWarning: filter_length (1321) is longer than the signal (600), distortion is likely. Reduce filter length or filter a longer signal.\n",
      "  data[i] = notch_filter(data[i], Fs=200., freqs=[50.0])\n",
      "C:\\Users\\Public\\Documents\\ESTsoft\\CreatorTemp\\ipykernel_39316\\237626029.py:20: RuntimeWarning: filter_length (1321) is longer than the signal (600), distortion is likely. Reduce filter length or filter a longer signal.\n",
      "  data[i] = notch_filter(data[i], Fs=200., freqs=[50.0])\n",
      "C:\\Users\\Public\\Documents\\ESTsoft\\CreatorTemp\\ipykernel_39316\\237626029.py:20: RuntimeWarning: filter_length (1321) is longer than the signal (600), distortion is likely. Reduce filter length or filter a longer signal.\n",
      "  data[i] = notch_filter(data[i], Fs=200., freqs=[50.0])\n"
     ]
    },
    {
     "name": "stdout",
     "output_type": "stream",
     "text": [
      "\n",
      "FIR filter parameters\n",
      "---------------------\n",
      "Designing a one-pass, zero-phase, non-causal bandstop filter:\n",
      "- Windowed time-domain design (firwin) method\n",
      "- Hamming window with 0.0194 passband ripple and 53 dB stopband attenuation\n",
      "- Lower passband edge: 49.38\n",
      "- Lower transition bandwidth: 0.50 Hz (-6 dB cutoff frequency: 49.12 Hz)\n",
      "- Upper passband edge: 50.62 Hz\n",
      "- Upper transition bandwidth: 0.50 Hz (-6 dB cutoff frequency: 50.88 Hz)\n",
      "- Filter length: 1321 samples (6.605 s)\n",
      "\n",
      "Setting up band-stop filter from 49 - 51 Hz\n",
      "\n",
      "FIR filter parameters\n",
      "---------------------\n",
      "Designing a one-pass, zero-phase, non-causal bandstop filter:\n",
      "- Windowed time-domain design (firwin) method\n",
      "- Hamming window with 0.0194 passband ripple and 53 dB stopband attenuation\n",
      "- Lower passband edge: 49.38\n",
      "- Lower transition bandwidth: 0.50 Hz (-6 dB cutoff frequency: 49.12 Hz)\n",
      "- Upper passband edge: 50.62 Hz\n",
      "- Upper transition bandwidth: 0.50 Hz (-6 dB cutoff frequency: 50.88 Hz)\n",
      "- Filter length: 1321 samples (6.605 s)\n",
      "\n",
      "Setting up band-stop filter from 49 - 51 Hz\n",
      "\n",
      "FIR filter parameters\n",
      "---------------------\n",
      "Designing a one-pass, zero-phase, non-causal bandstop filter:\n",
      "- Windowed time-domain design (firwin) method\n",
      "- Hamming window with 0.0194 passband ripple and 53 dB stopband attenuation\n",
      "- Lower passband edge: 49.38\n",
      "- Lower transition bandwidth: 0.50 Hz (-6 dB cutoff frequency: 49.12 Hz)\n",
      "- Upper passband edge: 50.62 Hz\n",
      "- Upper transition bandwidth: 0.50 Hz (-6 dB cutoff frequency: 50.88 Hz)\n",
      "- Filter length: 1321 samples (6.605 s)\n",
      "\n",
      "Setting up band-stop filter from 49 - 51 Hz\n",
      "\n",
      "FIR filter parameters\n",
      "---------------------\n",
      "Designing a one-pass, zero-phase, non-causal bandstop filter:\n",
      "- Windowed time-domain design (firwin) method\n",
      "- Hamming window with 0.0194 passband ripple and 53 dB stopband attenuation\n",
      "- Lower passband edge: 49.38\n",
      "- Lower transition bandwidth: 0.50 Hz (-6 dB cutoff frequency: 49.12 Hz)\n",
      "- Upper passband edge: 50.62 Hz\n",
      "- Upper transition bandwidth: 0.50 Hz (-6 dB cutoff frequency: 50.88 Hz)\n",
      "- Filter length: 1321 samples (6.605 s)\n",
      "\n",
      "Setting up band-stop filter from 49 - 51 Hz\n",
      "\n",
      "FIR filter parameters\n",
      "---------------------\n",
      "Designing a one-pass, zero-phase, non-causal bandstop filter:\n",
      "- Windowed time-domain design (firwin) method\n",
      "- Hamming window with 0.0194 passband ripple and 53 dB stopband attenuation\n",
      "- Lower passband edge: 49.38\n",
      "- Lower transition bandwidth: 0.50 Hz (-6 dB cutoff frequency: 49.12 Hz)\n",
      "- Upper passband edge: 50.62 Hz\n",
      "- Upper transition bandwidth: 0.50 Hz (-6 dB cutoff frequency: 50.88 Hz)\n",
      "- Filter length: 1321 samples (6.605 s)\n",
      "\n",
      "Setting up band-stop filter from 49 - 51 Hz\n",
      "\n",
      "FIR filter parameters\n",
      "---------------------\n",
      "Designing a one-pass, zero-phase, non-causal bandstop filter:\n"
     ]
    },
    {
     "name": "stderr",
     "output_type": "stream",
     "text": [
      "C:\\Users\\Public\\Documents\\ESTsoft\\CreatorTemp\\ipykernel_39316\\237626029.py:20: RuntimeWarning: filter_length (1321) is longer than the signal (600), distortion is likely. Reduce filter length or filter a longer signal.\n",
      "  data[i] = notch_filter(data[i], Fs=200., freqs=[50.0])\n",
      "C:\\Users\\Public\\Documents\\ESTsoft\\CreatorTemp\\ipykernel_39316\\237626029.py:20: RuntimeWarning: filter_length (1321) is longer than the signal (600), distortion is likely. Reduce filter length or filter a longer signal.\n",
      "  data[i] = notch_filter(data[i], Fs=200., freqs=[50.0])\n",
      "C:\\Users\\Public\\Documents\\ESTsoft\\CreatorTemp\\ipykernel_39316\\237626029.py:20: RuntimeWarning: filter_length (1321) is longer than the signal (600), distortion is likely. Reduce filter length or filter a longer signal.\n",
      "  data[i] = notch_filter(data[i], Fs=200., freqs=[50.0])\n",
      "C:\\Users\\Public\\Documents\\ESTsoft\\CreatorTemp\\ipykernel_39316\\237626029.py:20: RuntimeWarning: filter_length (1321) is longer than the signal (600), distortion is likely. Reduce filter length or filter a longer signal.\n",
      "  data[i] = notch_filter(data[i], Fs=200., freqs=[50.0])\n",
      "C:\\Users\\Public\\Documents\\ESTsoft\\CreatorTemp\\ipykernel_39316\\237626029.py:20: RuntimeWarning: filter_length (1321) is longer than the signal (600), distortion is likely. Reduce filter length or filter a longer signal.\n",
      "  data[i] = notch_filter(data[i], Fs=200., freqs=[50.0])\n"
     ]
    },
    {
     "name": "stdout",
     "output_type": "stream",
     "text": [
      "- Windowed time-domain design (firwin) method\n",
      "- Hamming window with 0.0194 passband ripple and 53 dB stopband attenuation\n",
      "- Lower passband edge: 49.38\n",
      "- Lower transition bandwidth: 0.50 Hz (-6 dB cutoff frequency: 49.12 Hz)\n",
      "- Upper passband edge: 50.62 Hz\n",
      "- Upper transition bandwidth: 0.50 Hz (-6 dB cutoff frequency: 50.88 Hz)\n",
      "- Filter length: 1321 samples (6.605 s)\n",
      "\n",
      "Setting up band-stop filter from 49 - 51 Hz\n",
      "\n",
      "FIR filter parameters\n",
      "---------------------\n",
      "Designing a one-pass, zero-phase, non-causal bandstop filter:\n",
      "- Windowed time-domain design (firwin) method\n",
      "- Hamming window with 0.0194 passband ripple and 53 dB stopband attenuation\n",
      "- Lower passband edge: 49.38\n",
      "- Lower transition bandwidth: 0.50 Hz (-6 dB cutoff frequency: 49.12 Hz)\n",
      "- Upper passband edge: 50.62 Hz\n",
      "- Upper transition bandwidth: 0.50 Hz (-6 dB cutoff frequency: 50.88 Hz)\n",
      "- Filter length: 1321 samples (6.605 s)\n",
      "\n",
      "Setting up band-stop filter from 49 - 51 Hz\n",
      "\n",
      "FIR filter parameters\n",
      "---------------------\n",
      "Designing a one-pass, zero-phase, non-causal bandstop filter:\n",
      "- Windowed time-domain design (firwin) method\n",
      "- Hamming window with 0.0194 passband ripple and 53 dB stopband attenuation\n",
      "- Lower passband edge: 49.38\n",
      "- Lower transition bandwidth: 0.50 Hz (-6 dB cutoff frequency: 49.12 Hz)\n",
      "- Upper passband edge: 50.62 Hz\n",
      "- Upper transition bandwidth: 0.50 Hz (-6 dB cutoff frequency: 50.88 Hz)\n",
      "- Filter length: 1321 samples (6.605 s)\n",
      "\n",
      "Setting up band-stop filter from 49 - 51 Hz\n",
      "\n",
      "FIR filter parameters\n",
      "---------------------\n",
      "Designing a one-pass, zero-phase, non-causal bandstop filter:\n",
      "- Windowed time-domain design (firwin) method\n",
      "- Hamming window with 0.0194 passband ripple and 53 dB stopband attenuation\n",
      "- Lower passband edge: 49.38\n",
      "- Lower transition bandwidth: 0.50 Hz (-6 dB cutoff frequency: 49.12 Hz)\n",
      "- Upper passband edge: 50.62 Hz\n",
      "- Upper transition bandwidth: 0.50 Hz (-6 dB cutoff frequency: 50.88 Hz)\n",
      "- Filter length: 1321 samples (6.605 s)\n",
      "\n",
      "Setting up band-stop filter from 49 - 51 Hz\n",
      "\n"
     ]
    },
    {
     "name": "stderr",
     "output_type": "stream",
     "text": [
      "C:\\Users\\Public\\Documents\\ESTsoft\\CreatorTemp\\ipykernel_39316\\237626029.py:20: RuntimeWarning: filter_length (1321) is longer than the signal (600), distortion is likely. Reduce filter length or filter a longer signal.\n",
      "  data[i] = notch_filter(data[i], Fs=200., freqs=[50.0])\n",
      "C:\\Users\\Public\\Documents\\ESTsoft\\CreatorTemp\\ipykernel_39316\\237626029.py:20: RuntimeWarning: filter_length (1321) is longer than the signal (600), distortion is likely. Reduce filter length or filter a longer signal.\n",
      "  data[i] = notch_filter(data[i], Fs=200., freqs=[50.0])\n",
      "C:\\Users\\Public\\Documents\\ESTsoft\\CreatorTemp\\ipykernel_39316\\237626029.py:20: RuntimeWarning: filter_length (1321) is longer than the signal (600), distortion is likely. Reduce filter length or filter a longer signal.\n",
      "  data[i] = notch_filter(data[i], Fs=200., freqs=[50.0])\n",
      "C:\\Users\\Public\\Documents\\ESTsoft\\CreatorTemp\\ipykernel_39316\\237626029.py:20: RuntimeWarning: filter_length (1321) is longer than the signal (600), distortion is likely. Reduce filter length or filter a longer signal.\n",
      "  data[i] = notch_filter(data[i], Fs=200., freqs=[50.0])\n"
     ]
    },
    {
     "name": "stdout",
     "output_type": "stream",
     "text": [
      "FIR filter parameters\n",
      "---------------------\n",
      "Designing a one-pass, zero-phase, non-causal bandstop filter:\n",
      "- Windowed time-domain design (firwin) method\n",
      "- Hamming window with 0.0194 passband ripple and 53 dB stopband attenuation\n",
      "- Lower passband edge: 49.38\n",
      "- Lower transition bandwidth: 0.50 Hz (-6 dB cutoff frequency: 49.12 Hz)\n",
      "- Upper passband edge: 50.62 Hz\n",
      "- Upper transition bandwidth: 0.50 Hz (-6 dB cutoff frequency: 50.88 Hz)\n",
      "- Filter length: 1321 samples (6.605 s)\n",
      "\n",
      "Setting up band-stop filter from 49 - 51 Hz\n",
      "\n",
      "FIR filter parameters\n",
      "---------------------\n",
      "Designing a one-pass, zero-phase, non-causal bandstop filter:\n",
      "- Windowed time-domain design (firwin) method\n",
      "- Hamming window with 0.0194 passband ripple and 53 dB stopband attenuation\n",
      "- Lower passband edge: 49.38\n",
      "- Lower transition bandwidth: 0.50 Hz (-6 dB cutoff frequency: 49.12 Hz)\n",
      "- Upper passband edge: 50.62 Hz\n",
      "- Upper transition bandwidth: 0.50 Hz (-6 dB cutoff frequency: 50.88 Hz)\n",
      "- Filter length: 1321 samples (6.605 s)\n",
      "\n",
      "Setting up band-stop filter from 49 - 51 Hz\n",
      "\n",
      "FIR filter parameters\n",
      "---------------------\n",
      "Designing a one-pass, zero-phase, non-causal bandstop filter:\n",
      "- Windowed time-domain design (firwin) method\n",
      "- Hamming window with 0.0194 passband ripple and 53 dB stopband attenuation\n",
      "- Lower passband edge: 49.38\n",
      "- Lower transition bandwidth: 0.50 Hz (-6 dB cutoff frequency: 49.12 Hz)\n",
      "- Upper passband edge: 50.62 Hz\n",
      "- Upper transition bandwidth: 0.50 Hz (-6 dB cutoff frequency: 50.88 Hz)\n",
      "- Filter length: 1321 samples (6.605 s)\n",
      "\n",
      "Setting up band-stop filter from 49 - 51 Hz\n",
      "\n",
      "FIR filter parameters\n",
      "---------------------\n",
      "Designing a one-pass, zero-phase, non-causal bandstop filter:\n",
      "- Windowed time-domain design (firwin) method\n",
      "- Hamming window with 0.0194 passband ripple and 53 dB stopband attenuation\n",
      "- Lower passband edge: 49.38\n",
      "- Lower transition bandwidth: 0.50 Hz (-6 dB cutoff frequency: 49.12 Hz)\n",
      "- Upper passband edge: 50.62 Hz\n",
      "- Upper transition bandwidth: 0.50 Hz (-6 dB cutoff frequency: 50.88 Hz)\n",
      "- Filter length: 1321 samples (6.605 s)\n",
      "\n",
      "Setting up band-stop filter from 49 - 51 Hz\n",
      "\n",
      "FIR filter parameters\n",
      "---------------------\n",
      "Designing a one-pass, zero-phase, non-causal bandstop filter:\n",
      "- Windowed time-domain design (firwin) method\n",
      "- Hamming window with 0.0194 passband ripple and 53 dB stopband attenuation\n",
      "- Lower passband edge: 49.38\n",
      "- Lower transition bandwidth: 0.50 Hz (-6 dB cutoff frequency: 49.12 Hz)\n",
      "- Upper passband edge: 50.62 Hz\n",
      "- Upper transition bandwidth: 0.50 Hz (-6 dB cutoff frequency: 50.88 Hz)\n",
      "- Filter length: 1321 samples (6.605 s)\n",
      "\n",
      "Setting up band-stop filter from 49 - 51 Hz\n",
      "\n",
      "FIR filter parameters\n",
      "---------------------\n",
      "Designing a one-pass, zero-phase, non-causal bandstop filter:\n",
      "- Windowed time-domain design (firwin) method\n",
      "- Hamming window with 0.0194 passband ripple and 53 dB stopband attenuation\n",
      "- Lower passband edge: 49.38\n",
      "- Lower transition bandwidth: 0.50 Hz (-6 dB cutoff frequency: 49.12 Hz)\n",
      "- Upper passband edge: 50.62 Hz\n",
      "- Upper transition bandwidth: 0.50 Hz (-6 dB cutoff frequency: 50.88 Hz)\n",
      "- Filter length: 1321 samples (6.605 s)\n",
      "\n"
     ]
    },
    {
     "name": "stderr",
     "output_type": "stream",
     "text": [
      "C:\\Users\\Public\\Documents\\ESTsoft\\CreatorTemp\\ipykernel_39316\\237626029.py:20: RuntimeWarning: filter_length (1321) is longer than the signal (600), distortion is likely. Reduce filter length or filter a longer signal.\n",
      "  data[i] = notch_filter(data[i], Fs=200., freqs=[50.0])\n",
      "C:\\Users\\Public\\Documents\\ESTsoft\\CreatorTemp\\ipykernel_39316\\237626029.py:20: RuntimeWarning: filter_length (1321) is longer than the signal (600), distortion is likely. Reduce filter length or filter a longer signal.\n",
      "  data[i] = notch_filter(data[i], Fs=200., freqs=[50.0])\n",
      "C:\\Users\\Public\\Documents\\ESTsoft\\CreatorTemp\\ipykernel_39316\\237626029.py:20: RuntimeWarning: filter_length (1321) is longer than the signal (600), distortion is likely. Reduce filter length or filter a longer signal.\n",
      "  data[i] = notch_filter(data[i], Fs=200., freqs=[50.0])\n",
      "C:\\Users\\Public\\Documents\\ESTsoft\\CreatorTemp\\ipykernel_39316\\237626029.py:20: RuntimeWarning: filter_length (1321) is longer than the signal (600), distortion is likely. Reduce filter length or filter a longer signal.\n",
      "  data[i] = notch_filter(data[i], Fs=200., freqs=[50.0])\n",
      "C:\\Users\\Public\\Documents\\ESTsoft\\CreatorTemp\\ipykernel_39316\\237626029.py:20: RuntimeWarning: filter_length (1321) is longer than the signal (600), distortion is likely. Reduce filter length or filter a longer signal.\n",
      "  data[i] = notch_filter(data[i], Fs=200., freqs=[50.0])\n",
      "C:\\Users\\Public\\Documents\\ESTsoft\\CreatorTemp\\ipykernel_39316\\237626029.py:20: RuntimeWarning: filter_length (1321) is longer than the signal (600), distortion is likely. Reduce filter length or filter a longer signal.\n",
      "  data[i] = notch_filter(data[i], Fs=200., freqs=[50.0])\n"
     ]
    },
    {
     "name": "stdout",
     "output_type": "stream",
     "text": [
      "Setting up band-stop filter from 49 - 51 Hz\n",
      "\n",
      "FIR filter parameters\n",
      "---------------------\n",
      "Designing a one-pass, zero-phase, non-causal bandstop filter:\n",
      "- Windowed time-domain design (firwin) method\n",
      "- Hamming window with 0.0194 passband ripple and 53 dB stopband attenuation\n",
      "- Lower passband edge: 49.38\n",
      "- Lower transition bandwidth: 0.50 Hz (-6 dB cutoff frequency: 49.12 Hz)\n",
      "- Upper passband edge: 50.62 Hz\n",
      "- Upper transition bandwidth: 0.50 Hz (-6 dB cutoff frequency: 50.88 Hz)\n",
      "- Filter length: 1321 samples (6.605 s)\n",
      "\n",
      "Setting up band-stop filter from 49 - 51 Hz\n",
      "\n",
      "FIR filter parameters\n",
      "---------------------\n",
      "Designing a one-pass, zero-phase, non-causal bandstop filter:\n",
      "- Windowed time-domain design (firwin) method\n",
      "- Hamming window with 0.0194 passband ripple and 53 dB stopband attenuation\n",
      "- Lower passband edge: 49.38\n",
      "- Lower transition bandwidth: 0.50 Hz (-6 dB cutoff frequency: 49.12 Hz)\n",
      "- Upper passband edge: 50.62 Hz\n",
      "- Upper transition bandwidth: 0.50 Hz (-6 dB cutoff frequency: 50.88 Hz)\n",
      "- Filter length: 1321 samples (6.605 s)\n",
      "\n",
      "Fitting ICA to data using 4 channels (please be patient, this may take a while)\n",
      "Selecting by explained variance: 3 components\n",
      "Fitting ICA took 0.1s.\n",
      "Selected 3 ICs\n"
     ]
    },
    {
     "name": "stderr",
     "output_type": "stream",
     "text": [
      "C:\\Users\\Public\\Documents\\ESTsoft\\CreatorTemp\\ipykernel_39316\\237626029.py:20: RuntimeWarning: filter_length (1321) is longer than the signal (600), distortion is likely. Reduce filter length or filter a longer signal.\n",
      "  data[i] = notch_filter(data[i], Fs=200., freqs=[50.0])\n",
      "C:\\Users\\Public\\Documents\\ESTsoft\\CreatorTemp\\ipykernel_39316\\237626029.py:20: RuntimeWarning: filter_length (1321) is longer than the signal (600), distortion is likely. Reduce filter length or filter a longer signal.\n",
      "  data[i] = notch_filter(data[i], Fs=200., freqs=[50.0])\n"
     ]
    }
   ],
   "source": [
    "import numpy as np\n",
    "from mne.preprocessing import ICA\n",
    "from mne.filter import notch_filter\n",
    "from mne.utils import use_log_level\n",
    "\n",
    "ica = ICA(n_components=0.999, method='fastica', random_state=42, max_iter='auto')\n",
    "\n",
    "with use_log_level('ERROR'):  \n",
    "    ica.fit(epochs)   # 이 블록 안에서는 ERROR 이상만 출력\n",
    "print(f\"▶ ICA components extracted: {ica.n_components_}\")\n",
    "\n",
    "# 1) Band-pass 1–40 Hz (IIR Butterworth)\n",
    "epochs.filter(1., 40., method='iir',\n",
    "              iir_params=dict(ftype='butter', order=4),\n",
    "              verbose=False)\n",
    "\n",
    "# 2) Notch 50 Hz (trial마다 적용)\n",
    "data = epochs.get_data()\n",
    "for i in range(len(data)):\n",
    "    data[i] = notch_filter(data[i], Fs=200., freqs=[50.0])\n",
    "epochs._data = data\n",
    "\n",
    "# 3) ICA (분산 99.9% 설명)\n",
    "ica = ICA(n_components=0.999, method='fastica',\n",
    "          random_state=42, max_iter='auto', verbose=False)\n",
    "ica.fit(epochs)\n",
    "print(f\"Selected {ica.n_components_} ICs\")\n",
    "epochs = ica.apply(epochs, verbose=False)\n"
   ]
  },
  {
   "cell_type": "markdown",
   "id": "bbe47829",
   "metadata": {},
   "source": [
    "# 4. 리샘플링& 정규화"
   ]
  },
  {
   "cell_type": "code",
   "execution_count": 40,
   "id": "af1dbfad",
   "metadata": {},
   "outputs": [],
   "source": [
    "# 리샘플링\n",
    "epochs.resample(100)\n",
    "\n",
    "# 정규화 (Z-score)\n",
    "data = epochs.get_data()\n",
    "data_z = (data - data.mean(axis=2, keepdims=True)) / data.std(axis=2, keepdims=True)\n",
    "epochs._data = data_z\n"
   ]
  },
  {
   "cell_type": "markdown",
   "id": "460c962e",
   "metadata": {},
   "source": [
    "# 5. QC: PTP 분포 보고 임계치 결정"
   ]
  },
  {
   "cell_type": "code",
   "execution_count": 41,
   "id": "a4075193",
   "metadata": {},
   "outputs": [
    {
     "data": {
      "image/png": "[encoded data removed]",
      "text/plain": [
       "<Figure size 640x480 with 1 Axes>"
      ]
     },
     "metadata": {},
     "output_type": "display_data"
    }
   ],
   "source": [
    "# 1) .mat 파일 로드\n",
    "mat = sio.loadmat(\n",
    "    \"C:/Users/Minnie/Desktop/Alzheimer Disease EEG Dataset/AD.mat\",\n",
    "    struct_as_record=False,\n",
    "    squeeze_me=True\n",
    ")\n",
    "# AD라는 key 로 저장된 ndarray를 꺼낸 뒤...\n",
    "data = mat['AD']\n",
    "# ndarray 안의 첫 번째 요소를 구조체로 추출\n",
    "rec = data[0]   # 혹은 data.flatten()[0]\n",
    "\n",
    "# 2) µV→V 변환 후 EpochsArray 준비\n",
    "arr_uv = rec.epoch                      # (n_ch, n_times, n_epochs), in µV\n",
    "arr_v  = arr_uv * 1e-6                  # convert µV → V\n",
    "X      = arr_v.transpose(2, 0, 1)       # → (n_epochs, n_ch, n_times)\n",
    "\n",
    "sfreq  = 200.0                          # 샘플링 주파수 직접 지정\n",
    "info   = mne.create_info(['Fp1','Fz','Cz','Pz'], sfreq, 'eeg')\n",
    "epochs = mne.EpochsArray(X, info, tmin=-1.0, verbose=False)\n",
    "\n",
    "# 3) ICA 후 PTP 계산 (V 단위)\n",
    "# epochs = ... (필터→노치→ICA 과정을 거친 epochs)\n",
    "ptp_V = epochs.get_data().ptp(axis=2).max(axis=1)\n",
    "\n",
    "# 4) 다시 µV로 변환해서 분포 시각화\n",
    "import matplotlib.pyplot as plt\n",
    "import numpy as np\n",
    "ptp_uV = ptp_V * 1e6\n",
    "plt.hist(ptp_uV, bins=30)\n",
    "plt.xlabel('Epoch PTP (µV)')\n",
    "plt.ylabel('Count')\n",
    "plt.title('PTP Distribution (AD)')\n",
    "plt.show()"
   ]
  },
  {
   "cell_type": "markdown",
   "id": "57f5278e",
   "metadata": {},
   "source": [
    "### 해석:\n",
    "\n",
    "대부분의 PTP가 0–3000 µV 구간,\n",
    "\n",
    "99th-percentile ≈ 2500 µV"
   ]
  },
  {
   "cell_type": "markdown",
   "id": "4ca7ee54",
   "metadata": {},
   "source": [
    "# 6. Bad-epoch 제거"
   ]
  },
  {
   "cell_type": "markdown",
   "id": "46c72c60",
   "metadata": {},
   "source": [
    "## 1) 99th-percentile 기준"
   ]
  },
  {
   "cell_type": "code",
   "execution_count": 42,
   "id": "edfdef42",
   "metadata": {},
   "outputs": [
    {
     "name": "stdout",
     "output_type": "stream",
     "text": [
      "99th percentile PTP: 26055 µV\n",
      "    Rejecting  epoch based on EEG : ['Cz']\n",
      "1 bad epochs dropped\n",
      " → 58/59 epochs remain\n"
     ]
    }
   ],
   "source": [
    "# epochs: ICA 까지 완료된 EpochsArray (V 단위)\n",
    "ptp_V  = epochs.get_data().ptp(axis=2).max(axis=1)  # 각 epoch의 peak-to-peak (Volts)\n",
    "ptp_uV = ptp_V * 1e6                               # µV 단위로 변환\n",
    "\n",
    "# 99번째 퍼센타일 계산\n",
    "threshold_uV = np.percentile(ptp_uV, 99)\n",
    "threshold_V  = threshold_uV * 1e-6\n",
    "print(f\"99th percentile PTP: {threshold_uV:.0f} µV\")\n",
    "\n",
    "# 이 임계치로 bad-epoch 제거\n",
    "epochs_clean = epochs.copy().drop_bad(\n",
    "    reject=dict(eeg=threshold_V), verbose=True\n",
    ")\n",
    "print(f\" → {len(epochs_clean)}/{len(epochs)} epochs remain\")"
   ]
  },
  {
   "cell_type": "markdown",
   "id": "5bccb526",
   "metadata": {},
   "source": [
    "## 2) 고정 5000 µV 기준"
   ]
  },
  {
   "cell_type": "code",
   "execution_count": 43,
   "id": "b678cfad",
   "metadata": {},
   "outputs": [
    {
     "name": "stdout",
     "output_type": "stream",
     "text": [
      "Manual threshold: 5000 µV\n",
      "    Rejecting  epoch based on EEG : ['Cz']\n",
      "    Rejecting  epoch based on EEG : ['Cz']\n",
      "    Rejecting  epoch based on EEG : ['Cz']\n",
      "    Rejecting  epoch based on EEG : ['Cz']\n",
      "    Rejecting  epoch based on EEG : ['Cz']\n",
      "    Rejecting  epoch based on EEG : ['Cz']\n",
      "    Rejecting  epoch based on EEG : ['Cz']\n",
      "    Rejecting  epoch based on EEG : ['Cz']\n",
      "    Rejecting  epoch based on EEG : ['Cz']\n",
      "    Rejecting  epoch based on EEG : ['Cz']\n",
      "    Rejecting  epoch based on EEG : ['Cz']\n",
      "    Rejecting  epoch based on EEG : ['Cz']\n",
      "    Rejecting  epoch based on EEG : ['Cz', 'Pz']\n",
      "13 bad epochs dropped\n",
      " → 46/59 epochs remain\n"
     ]
    }
   ],
   "source": [
    "threshold_uV = 5000       # µV\n",
    "threshold_V  = threshold_uV * 1e-6\n",
    "print(f\"Manual threshold: {threshold_uV} µV\")\n",
    "\n",
    "epochs_clean = epochs.copy().drop_bad(\n",
    "    reject=dict(eeg=threshold_V), verbose=True\n",
    ")\n",
    "print(f\" → {len(epochs_clean)}/{len(epochs)} epochs remain\")"
   ]
  },
  {
   "cell_type": "markdown",
   "id": "ef9b8917",
   "metadata": {},
   "source": [
    "# 5. Baseline correction & 저장"
   ]
  },
  {
   "cell_type": "code",
   "execution_count": 44,
   "id": "53c86f7b",
   "metadata": {},
   "outputs": [
    {
     "name": "stdout",
     "output_type": "stream",
     "text": [
      "Applying baseline correction (mode: mean)\n"
     ]
    }
   ],
   "source": [
    "# 1) MAT 파일 로드 (예: AD.mat)\n",
    "mat = sio.loadmat(\"C:/Users/Minnie/Desktop/Alzheimer Disease EEG Dataset/AD.mat\",\n",
    "                  struct_as_record=False, squeeze_me=True)\n",
    "data = mat['AD']\n",
    "rec  = data[0]   # 첫 번째 구조체\n",
    "\n",
    "# 2) 배열 추출 및 단위 변환\n",
    "arr_uv = rec.epoch              # µV 단위: (n_ch, n_times, n_epochs)\n",
    "arr_v  = arr_uv * 1e-6          # V 단위\n",
    "X      = arr_v.transpose(2,0,1) # (n_epochs, n_ch, n_times)\n",
    "\n",
    "# 3) MNE EpochsArray 생성\n",
    "sfreq       = 200.               # 샘플링 주파수\n",
    "ch_names    = ['Fp1','Fz','Cz','Pz']\n",
    "info        = mne.create_info(ch_names, sfreq, ch_types='eeg')\n",
    "raw_epochs  = mne.EpochsArray(X, info, tmin=-1.0, verbose=False)\n",
    "\n",
    "# 4) baseline-corrected raw copy\n",
    "raw_epochs_bc = raw_epochs.copy().apply_baseline((None, 0))"
   ]
  },
  {
   "cell_type": "code",
   "execution_count": 45,
   "id": "b8e7755c",
   "metadata": {},
   "outputs": [
    {
     "name": "stdout",
     "output_type": "stream",
     "text": [
      "Applying baseline correction (mode: mean)\n"
     ]
    },
    {
     "data": {
      "text/plain": [
       "[WindowsPath('c:/Users/Minnie/Desktop/Alzheimer Disease EEG Dataset/AD_clean-epo.fif')]"
      ]
     },
     "execution_count": 45,
     "metadata": {},
     "output_type": "execute_result"
    }
   ],
   "source": [
    "epochs_clean.apply_baseline((None, 0))\n",
    "epochs_clean.save('AD_clean-epo.fif', overwrite=True)\n"
   ]
  },
  {
   "cell_type": "markdown",
   "id": "650f3193",
   "metadata": {},
   "source": [
    "# 7. 시각화"
   ]
  },
  {
   "cell_type": "markdown",
   "id": "263a394f",
   "metadata": {},
   "source": [
    "## 1) ERP 비교 (Fz)"
   ]
  },
  {
   "cell_type": "code",
   "execution_count": 47,
   "id": "1e55772e",
   "metadata": {},
   "outputs": [
    {
     "data": {
      "image/png": "[encoded data removed]",
      "text/plain": [
       "<Figure size 600x400 with 1 Axes>"
      ]
     },
     "metadata": {},
     "output_type": "display_data"
    }
   ],
   "source": [
    "# 예시: 전처리 전/후 epochs 객체가 각각 존재할 때\n",
    "ev_raw = raw_epochs_bc.average()     # baseline만 적용한 버전\n",
    "ev_clean = epochs.average()          # ICA 등 모든 전처리 완료된 버전\n",
    "\n",
    "# 단일 채널(Fz 등) 선택해서 µV로 변환\n",
    "data_raw_uV   = ev_raw.data[1] * 1e6     # Fz = 두 번째 채널\n",
    "data_clean_uV = ev_clean.data[1] * 1e6\n",
    "times = ev_raw.times\n",
    "\n",
    "plt.figure(figsize=(6,4))\n",
    "plt.plot(times, data_raw_uV,   label='Raw (µV)')\n",
    "plt.plot(times, data_clean_uV, label='Cleaned (µV)')\n",
    "plt.axvline(0, color='k', linestyle='--')\n",
    "plt.xlabel('Time (s)')\n",
    "plt.ylabel('Amplitude (µV)')\n",
    "plt.legend()\n",
    "plt.title('ERP at Fz (µV)')\n",
    "plt.show()\n"
   ]
  },
  {
   "cell_type": "markdown",
   "id": "21d35d4f",
   "metadata": {},
   "source": [
    "## 2) PSD 비교 (Welch)"
   ]
  },
  {
   "cell_type": "code",
   "execution_count": null,
   "id": "d25a0d9c",
   "metadata": {},
   "outputs": [
    {
     "data": {
      "text/plain": [
       "Text(0.5, 1.0, 'PSD Comparison')"
      ]
     },
     "execution_count": 46,
     "metadata": {},
     "output_type": "execute_result"
    },
    {
     "data": {
      "image/png": "[encoded data removed]",
      "text/plain": [
       "<Figure size 640x480 with 1 Axes>"
      ]
     },
     "metadata": {},
     "output_type": "display_data"
    }
   ],
   "source": [
    "from scipy.signal import welch\n",
    "f, P_raw   = welch(ev_raw.data[0],   fs=200, nperseg=256)\n",
    "_, P_clean = welch(ev_clean.data[0], fs=200, nperseg=256)\n",
    "plt.semilogy(f, P_raw, label='Raw')\n",
    "plt.semilogy(f, P_clean, label='Cleaned')\n",
    "plt.legend(); plt.title('PSD Comparison')\n"
   ]
  },
  {
   "cell_type": "markdown",
   "id": "378a63ae",
   "metadata": {},
   "source": [
    "## + 전처리 효과 추가적 확인"
   ]
  },
  {
   "cell_type": "code",
   "execution_count": null,
   "id": "a35f633e",
   "metadata": {},
   "outputs": [
    {
     "data": {
      "text/plain": [
       "Text(0, 0.5, 'Amplitude')"
      ]
     },
     "execution_count": 48,
     "metadata": {},
     "output_type": "execute_result"
    },
    {
     "data": {
      "image/png": "[encoded data removed]",
      "text/plain": [
       "<Figure size 500x300 with 1 Axes>"
      ]
     },
     "metadata": {},
     "output_type": "display_data"
    }
   ],
   "source": [
    "# Raw vs Cleaned ERP + 회색 음영(shaded error)\n",
    "import numpy as np\n",
    "times = raw_epochs_bc.times\n",
    "data_raw = raw_epochs_bc.get_data() * 1e6        # (n_epochs, n_ch, n_times)\n",
    "data_cln = epochs_clean.get_data() * 1e6\n",
    "mean_r = data_raw[:,1,:].mean(axis=0)            # Fz 채널만\n",
    "std_r  = data_raw[:,1,:].std(axis=0)\n",
    "mean_c = data_cln[:,1,:].mean(axis=0)\n",
    "std_c  = data_cln[:,1,:].std(axis=0)\n",
    "\n",
    "\n",
    "plt.figure(figsize=(5,3))\n",
    "plt.plot(times, mean_r, label='Raw')\n",
    "plt.fill_between(times, mean_r-std_r, mean_r+std_r, alpha=0.2)\n",
    "plt.plot(times, mean_c, label='Cleaned')\n",
    "plt.fill_between(times, mean_c-std_c, mean_c+std_c, alpha=0.2)\n",
    "plt.axvline(0, color='k', ls='--'); plt.legend()\n",
    "plt.title('ERP ±1 SD at Fz (µV)'); plt.xlabel('Time (s)'); plt.ylabel('Amplitude')\n"
   ]
  },
  {
   "cell_type": "markdown",
   "id": "e14486df",
   "metadata": {},
   "source": [
    "이 플롯은 Fz 채널에서 시간마다 “평균 ERP” 주위로 ±1 표준편차(trial-to-trial variability)를 그린 것입니다.\n",
    "\n",
    "파란 영역 (Raw)\n",
    "자극 전에나 자극 직후에 에포크마다 신호 변화가 얼마나 큰지를 보여 줍니다. Raw 상태에서는 ±200 µV 이상으로 떴다가 내려가는 trial-to-trial 편차가 꽤 크죠.\n",
    "\n",
    "주황 영역 (Cleaned)\n",
    "같은 구간을 전처리(필터+ICA+bad-epoch 제거+baseline) 후에 그린 겁니다. 편차 폭이 눈에 띄게 줄어들어서, trial마다 훨씬 일관된(consistent) ERP 모양이 나온다는 걸 알 수 있어요.\n",
    "\n",
    "즉, **“아티팩트(잡음)로 인해 크게 들뜨던 개별 trial을 제거/정제했더니, evoked response가 더 안정적으로 측정되었다”**는 것을 시각적으로 확인하는 QC(품질 확인) 그래프입니다. PS D나 단순 평균 파형만으로는 드러나지 않는, trial-to-trial 신뢰도 개선 효과를 이렇게 보여 주는 거죠."
   ]
  }
 ],
 "metadata": {
  "kernelspec": {
   "display_name": "base",
   "language": "python",
   "name": "python3"
  },
  "language_info": {
   "codemirror_mode": {
    "name": "ipython",
    "version": 3
   },
   "file_extension": ".py",
   "mimetype": "text/x-python",
   "name": "python",
   "nbconvert_exporter": "python",
   "pygments_lexer": "ipython3",
   "version": "3.11.4"
  }
 },
 "nbformat": 4,
 "nbformat_minor": 5
}
